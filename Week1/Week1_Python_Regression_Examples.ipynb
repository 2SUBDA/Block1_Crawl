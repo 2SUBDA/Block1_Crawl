{
  "nbformat": 4,
  "nbformat_minor": 0,
  "metadata": {
    "kernelspec": {
      "display_name": "Python 3",
      "language": "python",
      "name": "python3"
    },
    "language_info": {
      "codemirror_mode": {
        "name": "ipython",
        "version": 3
      },
      "file_extension": ".py",
      "mimetype": "text/x-python",
      "name": "python",
      "nbconvert_exporter": "python",
      "pygments_lexer": "ipython3",
      "version": "3.6.2"
    },
    "colab": {
      "name": "Week1.Python_Regression_Examples.ipynb",
      "provenance": [],
      "include_colab_link": true
    }
  },
  "cells": [
    {
      "cell_type": "markdown",
      "metadata": {
        "id": "view-in-github",
        "colab_type": "text"
      },
      "source": [
        "<a href=\"https://colab.research.google.com/github/2SUBDA/Block1_Crawl/blob/Week_1/Week1_Python_Regression_Examples.ipynb\" target=\"_parent\"><img src=\"https://colab.research.google.com/assets/colab-badge.svg\" alt=\"Open In Colab\"/></a>"
      ]
    },
    {
      "cell_type": "code",
      "metadata": {
        "id": "WFxddfWkePC_",
        "colab_type": "code",
        "colab": {}
      },
      "source": [
        "# Regression Modeling with California Housing Values (Python)\n",
        "# BASED ON CODE FROM MILLER (2015)\n",
        "\n",
        "\n",
        "# import packages for analysis and modeling\n",
        "import pandas as pd  # data frame operations\n",
        "from pandas.plotting import scatter_matrix  # scatter plot matrix\n",
        "import numpy as np  # arrays and math functions\n",
        "from scipy.stats import uniform  # for training-and-test split\n",
        "import statsmodels.api as sm  # statistical models (including regression)\n",
        "import statsmodels.formula.api as smf  # R-like model specification\n",
        "from sklearn.tree import DecisionTreeRegressor  # machine learning tree\n",
        "from sklearn.ensemble import RandomForestRegressor # ensemble method\n",
        "\n",
        "%matplotlib inline\n",
        "\n"
      ],
      "execution_count": 20,
      "outputs": []
    },
    {
      "cell_type": "code",
      "metadata": {
        "id": "n4IZ4iAxea-y",
        "colab_type": "code",
        "colab": {
          "base_uri": "https://localhost:8080/",
          "height": 187
        },
        "outputId": "61b2c663-0cdd-46cc-c782-3f1bd0294a2c"
      },
      "source": [
        "# OBTAIN - There are many ways to read in data - this is one:\n",
        "# READ in the file from a website - with white-space delimiters\n",
        "\n",
        "prelim_houses = pd.read_table('https://raw.githubusercontent.com/2SUBDA/Block1_Crawl/Week_1/houses_data.txt', header = None, \\\n",
        "     delim_whitespace = True, skipinitialspace = True, \\\n",
        "     names = ['value', 'income', 'age', 'rooms', 'bedrooms', \\\n",
        "     'pop', 'hh', 'latitude', 'longitude'])\n",
        "\n",
        "prelim_houses['idx'] = range(len(prelim_houses))  # for use as index\n",
        "houses = prelim_houses.set_index(['idx']) \n",
        "     \n",
        "print(houses.shape)  # check the structure of the data frame\n",
        "print(houses.head())"
      ],
      "execution_count": 4,
      "outputs": [
        {
          "output_type": "stream",
          "text": [
            "(20640, 9)\n",
            "        value  income   age   rooms  ...     pop      hh  latitude  longitude\n",
            "idx                                  ...                                     \n",
            "0    452600.0  8.3252  41.0   880.0  ...   322.0   126.0     37.88    -122.23\n",
            "1    358500.0  8.3014  21.0  7099.0  ...  2401.0  1138.0     37.86    -122.22\n",
            "2    352100.0  7.2574  52.0  1467.0  ...   496.0   177.0     37.85    -122.24\n",
            "3    341300.0  5.6431  52.0  1274.0  ...   558.0   219.0     37.85    -122.25\n",
            "4    342200.0  3.8462  52.0  1627.0  ...   565.0   259.0     37.85    -122.25\n",
            "\n",
            "[5 rows x 9 columns]\n"
          ],
          "name": "stdout"
        }
      ]
    },
    {
      "cell_type": "code",
      "metadata": {
        "id": "bVqla6qDePDG",
        "colab_type": "code",
        "colab": {
          "base_uri": "https://localhost:8080/",
          "height": 204
        },
        "outputId": "e7f64465-b078-4b7f-db5f-8c457b7959f4"
      },
      "source": [
        "# SAMPLE FOR STATISTICS SUMMARY\n",
        "\n",
        "# compute descriptive statistics for original variables\n",
        "print(houses.describe())"
      ],
      "execution_count": 5,
      "outputs": [
        {
          "output_type": "stream",
          "text": [
            "               value        income  ...      latitude     longitude\n",
            "count   20640.000000  20640.000000  ...  20640.000000  20640.000000\n",
            "mean   206855.816909      3.870671  ...     35.631861   -119.569704\n",
            "std    115395.615874      1.899822  ...      2.135952      2.003532\n",
            "min     14999.000000      0.499900  ...     32.540000   -124.350000\n",
            "25%    119600.000000      2.563400  ...     33.930000   -121.800000\n",
            "50%    179700.000000      3.534800  ...     34.260000   -118.490000\n",
            "75%    264725.000000      4.743250  ...     37.710000   -118.010000\n",
            "max    500001.000000     15.000100  ...     41.950000   -114.310000\n",
            "\n",
            "[8 rows x 9 columns]\n"
          ],
          "name": "stdout"
        }
      ]
    },
    {
      "cell_type": "code",
      "metadata": {
        "id": "0ZBjWz5pePDK",
        "colab_type": "code",
        "colab": {}
      },
      "source": [
        "# SAMPLE FOR DATA TRANSFORMATIONS\n",
        "\n",
        "# computed variables for linear model used by Pace and Barry (1997)\n",
        "houses['log_value'] = np.log(houses['value'])\n",
        "houses['income_squared'] = np.power(houses['income'], 2) \n",
        "houses['income_cubed'] = np.power(houses['income'], 3) \n",
        "houses['log_age'] = np.log(houses['age'])   \n",
        "houses['log_pc_rooms'] = np.log(np.divide(houses['rooms'], houses['pop']))       \n",
        "houses['log_pc_bedrooms'] = \\\n",
        "    np.log(np.divide(houses['bedrooms'], houses['pop']))                   \n",
        "houses['log_pop_hh'] = np.divide(houses['pop'], houses['hh'])           \n",
        "houses['log_hh'] = np.log(houses['hh'])   \n"
      ],
      "execution_count": 6,
      "outputs": []
    },
    {
      "cell_type": "code",
      "metadata": {
        "id": "udvx2rNQePDS",
        "colab_type": "code",
        "colab": {}
      },
      "source": [
        "# SAMPLE LINEAR MODELS\n",
        "\n",
        "# structure of the Pace and Barry (1997) model for baseline for comparisons\n",
        "pace_barry_model = 'log_value ~ income + income_squared + \\\n",
        "    income_cubed + log_age + log_pc_rooms + log_pc_bedrooms + \\\n",
        "    log_pop_hh + log_hh'\n",
        "\n",
        "# for comparison lets look at a simple model with the original variables\n",
        "simple_model = 'log_value ~ income + age + rooms + bedrooms + \\\n",
        "    pop + hh'"
      ],
      "execution_count": 7,
      "outputs": []
    },
    {
      "cell_type": "code",
      "metadata": {
        "id": "G8GmhMhwePDW",
        "colab_type": "code",
        "colab": {}
      },
      "source": [
        "# SAMPLE FULL MODEL\n",
        "\n",
        "# original variables plus variables that add value for trees \n",
        "# that is... variables that are not simple monotonic transformations\n",
        "# of the original explanatory variables\n",
        "full_model = 'log_value ~ income + age + rooms + bedrooms + \\\n",
        "  pop + hh + log_pc_rooms + log_pc_bedrooms + log_pop_hh'  \n",
        "  "
      ],
      "execution_count": 8,
      "outputs": []
    },
    {
      "cell_type": "code",
      "metadata": {
        "id": "UuUgKf7GePDa",
        "colab_type": "code",
        "colab": {
          "base_uri": "https://localhost:8080/",
          "height": 187
        },
        "outputId": "bb5c092a-667a-416d-911a-5863792a70e7"
      },
      "source": [
        "# SAMPLE SPATIAL PROCESSING\n",
        "\n",
        "# define the bounding box for selecting the area\n",
        "# here we are selecting the San Diego region\n",
        "BB_TOP = 33\n",
        "BB_BOTTOM = 32\n",
        "BB_RIGHT = -116.75\n",
        "BB_LEFT = -125\n",
        "\n",
        "houses_selected = houses[houses['latitude'] < BB_TOP]\n",
        "houses_selected = houses_selected[houses_selected['longitude'] < BB_RIGHT]\n",
        "houses_selected = houses_selected[houses_selected['latitude'] > BB_BOTTOM]\n",
        "houses_selected = houses_selected[houses_selected['longitude'] > BB_LEFT]\n",
        "\n",
        "# examine structure of selected block groups\n",
        "print(houses_selected.shape)\n",
        "print(houses_selected.head())"
      ],
      "execution_count": 9,
      "outputs": [
        {
          "output_type": "stream",
          "text": [
            "(1206, 17)\n",
            "          value  income   age  ...  log_pc_bedrooms  log_pop_hh    log_hh\n",
            "idx                            ...                                       \n",
            "14005  441700.0  4.7396  52.0  ...        -0.768322    2.277193  5.652489\n",
            "14006  408500.0  5.3920  52.0  ...        -0.925680    2.388393  5.411646\n",
            "14007  459600.0  8.6030  52.0  ...        -0.912437    2.642857  5.278115\n",
            "14008  500001.0  8.1548  52.0  ...        -0.690971    2.415789  5.247024\n",
            "14009  411600.0  6.1309  52.0  ...        -0.878984    2.431280  5.351858\n",
            "\n",
            "[5 rows x 17 columns]\n"
          ],
          "name": "stdout"
        }
      ]
    },
    {
      "cell_type": "code",
      "metadata": {
        "id": "rs8cO5uYePDe",
        "colab_type": "code",
        "colab": {
          "base_uri": "https://localhost:8080/",
          "height": 391
        },
        "outputId": "5008f9f0-75b7-4280-eb8d-296cb0d23f9b"
      },
      "source": [
        "# SAMPLE FOR TEST / TRAIN DATA DIVISION\n",
        "\n",
        "# employ training-and-test regimen for model validation\n",
        "np.random.seed(4444)\n",
        "houses_selected['runiform'] = uniform.rvs(loc = 0, scale = 1, size = len(houses_selected))\n",
        "houses_selected_train = houses_selected[houses_selected['runiform'] >= 0.33]\n",
        "houses_selected_test = houses_selected[houses_selected['runiform'] < 0.33]\n",
        "# check training data frame\n",
        "print('\\nhouses_selected_train data frame (rows, columns): ',\\\n",
        "    houses_selected_train.shape)\n",
        "print(houses_selected_train.head())\n",
        "# check test data frame\n",
        "print('\\nhouses_selected_test data frame (rows, columns): ',\\\n",
        "    houses_selected_test.shape)\n",
        "print(houses_selected_test.head())"
      ],
      "execution_count": 10,
      "outputs": [
        {
          "output_type": "stream",
          "text": [
            "\n",
            "houses_selected_train data frame (rows, columns):  (793, 18)\n",
            "          value  income   age  ...  log_pop_hh    log_hh  runiform\n",
            "idx                            ...                                \n",
            "14005  441700.0  4.7396  52.0  ...    2.277193  5.652489  0.942799\n",
            "14007  459600.0  8.6030  52.0  ...    2.642857  5.278115  0.445349\n",
            "14008  500001.0  8.1548  52.0  ...    2.415789  5.247024  0.638215\n",
            "14009  411600.0  6.1309  52.0  ...    2.431280  5.351858  0.521494\n",
            "14010  500001.0  5.7914  52.0  ...    2.411111  5.192957  0.900155\n",
            "\n",
            "[5 rows x 18 columns]\n",
            "\n",
            "houses_selected_test data frame (rows, columns):  (413, 18)\n",
            "          value  income   age  ...  log_pop_hh    log_hh  runiform\n",
            "idx                            ...                                \n",
            "14006  408500.0  5.3920  52.0  ...    2.388393  5.411646  0.123320\n",
            "14011  354200.0  2.7266  45.0  ...    1.754917  6.493754  0.256962\n",
            "14012  249000.0  3.6540  38.0  ...    2.142727  7.003065  0.192267\n",
            "14013  274000.0  2.5288  39.0  ...    1.739130  6.536692  0.182353\n",
            "14015  289600.0  3.0726  52.0  ...    1.895522  5.303305  0.271534\n",
            "\n",
            "[5 rows x 18 columns]\n"
          ],
          "name": "stdout"
        }
      ]
    },
    {
      "cell_type": "code",
      "metadata": {
        "id": "0Y98yxxPePDk",
        "colab_type": "code",
        "colab": {
          "base_uri": "https://localhost:8080/",
          "height": 238
        },
        "outputId": "1320d3f8-5ee7-4911-ce50-93807c0dca36"
      },
      "source": [
        "# SAMPLE COORELATION\n",
        "\n",
        "# examine the correlations across the variables before we begin modeling\n",
        "houses_train_df_vars = houses_selected_train.loc[ : ,['log_value', 'income',\\\n",
        "    'log_pc_rooms', 'log_pc_bedrooms', 'rooms', 'bedrooms', 'hh', \\\n",
        "    'age', 'pop', 'log_pop_hh']]\n",
        "print(houses_train_df_vars.corr())\n",
        "    \n",
        "   "
      ],
      "execution_count": 21,
      "outputs": [
        {
          "output_type": "stream",
          "text": [
            "                 log_value    income  ...       pop  log_pop_hh\n",
            "log_value         1.000000  0.659510  ... -0.092723   -0.312509\n",
            "income            0.659510  1.000000  ...  0.008507    0.021222\n",
            "log_pc_rooms      0.675540  0.527058  ... -0.188314   -0.674988\n",
            "log_pc_bedrooms   0.349961 -0.106339  ... -0.237542   -0.860651\n",
            "rooms             0.157848  0.223225  ...  0.897124   -0.040936\n",
            "bedrooms          0.029609 -0.025875  ...  0.893494   -0.115490\n",
            "hh                0.020813 -0.015306  ...  0.908285   -0.100761\n",
            "age               0.009355 -0.218314  ... -0.380698   -0.096489\n",
            "pop              -0.092723  0.008507  ...  1.000000    0.251116\n",
            "log_pop_hh       -0.312509  0.021222  ...  0.251116    1.000000\n",
            "\n",
            "[10 rows x 10 columns]\n"
          ],
          "name": "stdout"
        }
      ]
    },
    {
      "cell_type": "code",
      "metadata": {
        "id": "rTCPo-Jef5Aj",
        "colab_type": "code",
        "colab": {
          "base_uri": "https://localhost:8080/",
          "height": 583
        },
        "outputId": "82707efc-5811-4e64-a233-27237b4f3a88"
      },
      "source": [
        "# SAMPLE COORELATION PLOT\n",
        "\n",
        "houses_train_splom_vars = \\\n",
        "    houses_selected_train.loc[:, ['log_value', 'income', 'age', 'rooms']]\n",
        "scatter_matrix(houses_train_splom_vars)\n"
      ],
      "execution_count": 22,
      "outputs": [
        {
          "output_type": "execute_result",
          "data": {
            "text/plain": [
              "array([[<matplotlib.axes._subplots.AxesSubplot object at 0x7f921d45ef28>,\n",
              "        <matplotlib.axes._subplots.AxesSubplot object at 0x7f921ce9f9b0>,\n",
              "        <matplotlib.axes._subplots.AxesSubplot object at 0x7f921b649c18>,\n",
              "        <matplotlib.axes._subplots.AxesSubplot object at 0x7f921b67de80>],\n",
              "       [<matplotlib.axes._subplots.AxesSubplot object at 0x7f921b63e128>,\n",
              "        <matplotlib.axes._subplots.AxesSubplot object at 0x7f921b5f2390>,\n",
              "        <matplotlib.axes._subplots.AxesSubplot object at 0x7f921b5a45f8>,\n",
              "        <matplotlib.axes._subplots.AxesSubplot object at 0x7f921b559828>],\n",
              "       [<matplotlib.axes._subplots.AxesSubplot object at 0x7f921b559898>,\n",
              "        <matplotlib.axes._subplots.AxesSubplot object at 0x7f921b5429e8>,\n",
              "        <matplotlib.axes._subplots.AxesSubplot object at 0x7f921b4f3d68>,\n",
              "        <matplotlib.axes._subplots.AxesSubplot object at 0x7f921b4b2128>],\n",
              "       [<matplotlib.axes._subplots.AxesSubplot object at 0x7f921b4654a8>,\n",
              "        <matplotlib.axes._subplots.AxesSubplot object at 0x7f921b415828>,\n",
              "        <matplotlib.axes._subplots.AxesSubplot object at 0x7f921b3c9ba8>,\n",
              "        <matplotlib.axes._subplots.AxesSubplot object at 0x7f921b3fcf28>]],\n",
              "      dtype=object)"
            ]
          },
          "metadata": {
            "tags": []
          },
          "execution_count": 22
        },
        {
          "output_type": "display_data",
          "data": {
            "image/png": "[encoded data removed]",
            "text/plain": [
              "<Figure size 432x288 with 16 Axes>"
            ]
          },
          "metadata": {
            "tags": [],
            "needs_background": "light"
          }
        }
      ]
    },
    {
      "cell_type": "code",
      "metadata": {
        "id": "gjgcPBDUePDo",
        "colab_type": "code",
        "colab": {
          "base_uri": "https://localhost:8080/",
          "height": 867
        },
        "outputId": "4bac6e6d-b531-4527-c4cc-e720f92d9b12"
      },
      "source": [
        "# --------------------------------------------\n",
        "# Linear regression a la Pace and Barry (1997)\n",
        "# --------------------------------------------\n",
        "# fit the model to the training set\n",
        "pace_barry_train_fit = smf.ols(pace_barry_model, \\\n",
        "    data = houses_selected_train).fit()\n",
        "# summary of model fit to the training set\n",
        "print(pace_barry_train_fit.summary())\n",
        "# training set predictions from the model fit to the training set\n",
        "houses_selected_train['predict_log_value'] = pace_barry_train_fit.fittedvalues\n",
        "# test set predictions from the model fit to the training set\n",
        "houses_selected_test['predict_log_value'] = pace_barry_train_fit.predict(houses_selected_test)\n",
        "\n",
        "# compute the proportion of response variance for training data\n",
        "pace_and_barry_train_result = \\\n",
        "    round(np.power(houses_selected_train['log_value']\\\n",
        "        .corr(houses_selected_train['predict_log_value']),2),3)\n",
        "print('\\nPace and Barry Proportion of Training Set Variance Accounted for: ',\\\n",
        "    pace_and_barry_train_result)\n",
        "\n",
        "# compute the proportion of response variance\n",
        "# accounted for when predicting out-of-sample\n",
        "pace_and_barry_test_result = \\\n",
        "    round(np.power(houses_selected_test['log_value']\\\n",
        "        .corr(houses_selected_test['predict_log_value']),2),3)\n",
        "print('\\nPace and Barry Proportion of Test Set Variance Accounted for: ',\\\n",
        "    pace_and_barry_test_result)"
      ],
      "execution_count": 12,
      "outputs": [
        {
          "output_type": "stream",
          "text": [
            "                            OLS Regression Results                            \n",
            "==============================================================================\n",
            "Dep. Variable:              log_value   R-squared:                       0.643\n",
            "Model:                            OLS   Adj. R-squared:                  0.640\n",
            "Method:                 Least Squares   F-statistic:                     176.8\n",
            "Date:                Tue, 08 Sep 2020   Prob (F-statistic):          7.51e-170\n",
            "Time:                        20:52:08   Log-Likelihood:                -62.370\n",
            "No. Observations:                 793   AIC:                             142.7\n",
            "Df Residuals:                     784   BIC:                             184.8\n",
            "Df Model:                           8                                         \n",
            "Covariance Type:            nonrobust                                         \n",
            "===================================================================================\n",
            "                      coef    std err          t      P>|t|      [0.025      0.975]\n",
            "-----------------------------------------------------------------------------------\n",
            "Intercept          11.3731      0.154     73.793      0.000      11.071      11.676\n",
            "income              0.1135      0.048      2.370      0.018       0.019       0.208\n",
            "income_squared      0.0194      0.008      2.471      0.014       0.004       0.035\n",
            "income_cubed       -0.0013      0.000     -3.281      0.001      -0.002      -0.001\n",
            "log_age             0.1098      0.020      5.543      0.000       0.071       0.149\n",
            "log_pc_rooms        0.0689      0.081      0.853      0.394      -0.090       0.228\n",
            "log_pc_bedrooms     0.7796      0.080      9.791      0.000       0.623       0.936\n",
            "log_pop_hh          0.0819      0.020      4.181      0.000       0.043       0.120\n",
            "log_hh              0.0315      0.016      2.016      0.044       0.001       0.062\n",
            "==============================================================================\n",
            "Omnibus:                       52.641   Durbin-Watson:                   1.167\n",
            "Prob(Omnibus):                  0.000   Jarque-Bera (JB):              115.302\n",
            "Skew:                           0.393   Prob(JB):                     9.17e-26\n",
            "Kurtosis:                       4.695   Cond. No.                     3.38e+03\n",
            "==============================================================================\n",
            "\n",
            "Warnings:\n",
            "[1] Standard Errors assume that the covariance matrix of the errors is correctly specified.\n",
            "[2] The condition number is large, 3.38e+03. This might indicate that there are\n",
            "strong multicollinearity or other numerical problems.\n",
            "\n",
            "Pace and Barry Proportion of Training Set Variance Accounted for:  0.643\n",
            "\n",
            "Pace and Barry Proportion of Test Set Variance Accounted for:  0.568\n"
          ],
          "name": "stdout"
        },
        {
          "output_type": "stream",
          "text": [
            "/usr/local/lib/python3.6/dist-packages/ipykernel_launcher.py:9: SettingWithCopyWarning: \n",
            "A value is trying to be set on a copy of a slice from a DataFrame.\n",
            "Try using .loc[row_indexer,col_indexer] = value instead\n",
            "\n",
            "See the caveats in the documentation: https://pandas.pydata.org/pandas-docs/stable/user_guide/indexing.html#returning-a-view-versus-a-copy\n",
            "  if __name__ == '__main__':\n",
            "/usr/local/lib/python3.6/dist-packages/ipykernel_launcher.py:11: SettingWithCopyWarning: \n",
            "A value is trying to be set on a copy of a slice from a DataFrame.\n",
            "Try using .loc[row_indexer,col_indexer] = value instead\n",
            "\n",
            "See the caveats in the documentation: https://pandas.pydata.org/pandas-docs/stable/user_guide/indexing.html#returning-a-view-versus-a-copy\n",
            "  # This is added back by InteractiveShellApp.init_path()\n"
          ],
          "name": "stderr"
        }
      ]
    },
    {
      "cell_type": "code",
      "metadata": {
        "id": "2Uf2zYvuePDr",
        "colab_type": "code",
        "colab": {
          "base_uri": "https://localhost:8080/",
          "height": 255
        },
        "outputId": "33830001-6bea-4877-a522-1051b65c8bc8"
      },
      "source": [
        "# --------------------------------------\n",
        "# Tree-structured regression (simple)\n",
        "# --------------------------------------\n",
        "# try tree-structured regression on the original explantory variables\n",
        "# note that one of the advantages of trees is no need for transformations\n",
        "# of the explanatory variables... sklearn DecisionTreeRegressor\n",
        "tree_model_maker = DecisionTreeRegressor(random_state = 9999, max_depth = 5)\n",
        "\n",
        "y_train = houses_selected_train.loc[:, ['log_value']]\n",
        "\n",
        "# simple model has six predictors\n",
        "X_train_simple = houses_selected_train.loc[:, \\\n",
        "    ['income', 'age', 'rooms', 'bedrooms', 'pop', 'hh']]\n",
        "X_test_simple = houses_selected_test.loc[:, \\\n",
        "    ['income', 'age', 'rooms', 'bedrooms', 'pop', 'hh']]\n",
        "\n",
        "tree_model_fit = tree_model_maker.fit(X_train_simple, y_train)\n",
        "\n",
        "# compute the proportion of response variance for training data\n",
        "houses_selected_train['simple_tree_predict_log_value'] =\\\n",
        "    tree_model_fit.predict(X_train_simple)\n",
        "simple_tree_train_result = \\\n",
        "    round(np.power(houses_selected_train['log_value']\\\n",
        "        .corr(houses_selected_train['simple_tree_predict_log_value']),2),3)\n",
        "print('\\nSimple Tree Proportion of Training Set Variance Accounted for: ',\\\n",
        "    simple_tree_train_result)\n",
        "\n",
        "# compute the proportion of response variance for test data\n",
        "houses_selected_test['simple_tree_predict_log_value'] =\\\n",
        "    tree_model_fit.predict(X_test_simple)\n",
        "simple_tree_test_result = \\\n",
        "    round(np.power(houses_selected_test['log_value']\\\n",
        "        .corr(houses_selected_test['simple_tree_predict_log_value']),2),3)\n",
        "print('\\nSimple Tree Proportion of Test Set Variance Accounted for: ',\\\n",
        "    simple_tree_test_result)\n"
      ],
      "execution_count": 13,
      "outputs": [
        {
          "output_type": "stream",
          "text": [
            "\n",
            "Simple Tree Proportion of Training Set Variance Accounted for:  0.621\n",
            "\n",
            "Simple Tree Proportion of Test Set Variance Accounted for:  0.461\n"
          ],
          "name": "stdout"
        },
        {
          "output_type": "stream",
          "text": [
            "/usr/local/lib/python3.6/dist-packages/ipykernel_launcher.py:18: SettingWithCopyWarning: \n",
            "A value is trying to be set on a copy of a slice from a DataFrame.\n",
            "Try using .loc[row_indexer,col_indexer] = value instead\n",
            "\n",
            "See the caveats in the documentation: https://pandas.pydata.org/pandas-docs/stable/user_guide/indexing.html#returning-a-view-versus-a-copy\n",
            "/usr/local/lib/python3.6/dist-packages/ipykernel_launcher.py:23: SettingWithCopyWarning: \n",
            "A value is trying to be set on a copy of a slice from a DataFrame.\n",
            "Try using .loc[row_indexer,col_indexer] = value instead\n",
            "\n",
            "See the caveats in the documentation: https://pandas.pydata.org/pandas-docs/stable/user_guide/indexing.html#returning-a-view-versus-a-copy\n"
          ],
          "name": "stderr"
        }
      ]
    },
    {
      "cell_type": "code",
      "metadata": {
        "id": "Ar2EZJIEePDu",
        "colab_type": "code",
        "colab": {
          "base_uri": "https://localhost:8080/",
          "height": 272
        },
        "outputId": "0e84633e-cc82-4dac-d1ec-976c8e2faa2f"
      },
      "source": [
        "# --------------------------------------\n",
        "# Tree-structured regression (full)\n",
        "# --------------------------------------\n",
        "# same method as for simple tree\n",
        "tree_model_maker = DecisionTreeRegressor(random_state = 9999, max_depth = 5)\n",
        "\n",
        "y_train = houses_selected_train.loc[:, ['log_value']]\n",
        "\n",
        "# full model has more predictors\n",
        "X_train_full = houses_selected_train.loc[:, \\\n",
        "    ['income', 'age', 'rooms', 'bedrooms',\\\n",
        "        'pop', 'hh', 'log_pc_rooms', 'log_pc_bedrooms', 'log_pop_hh']]\n",
        "X_test_full = houses_selected_test.loc[:, \\\n",
        "    ['income', 'age', 'rooms', 'bedrooms',\\\n",
        "        'pop', 'hh', 'log_pc_rooms', 'log_pc_bedrooms', 'log_pop_hh']]\n",
        "\n",
        "tree_model_fit = tree_model_maker.fit(X_train_full, y_train)\n",
        "\n",
        "# compute the proportion of response variance for training data\n",
        "houses_selected_train['full_tree_predict_log_value'] =\\\n",
        "    tree_model_fit.predict(X_train_full)\n",
        "full_tree_train_result = \\\n",
        "    round(np.power(houses_selected_train['log_value']\\\n",
        "        .corr(houses_selected_train['full_tree_predict_log_value']),2),3)\n",
        "print('\\nFull Tree Proportion of Training Set Variance Accounted for: ',\\\n",
        "    full_tree_train_result)\n",
        "\n",
        "# compute the proportion of response variance for test data\n",
        "houses_selected_test['full_tree_predict_log_value'] =\\\n",
        "    tree_model_fit.predict(X_test_full)\n",
        "full_tree_test_result = \\\n",
        "    round(np.power(houses_selected_test['log_value']\\\n",
        "        .corr(houses_selected_test['full_tree_predict_log_value']),2),3)\n",
        "print('\\nFull Tree Proportion of Test Set Variance Accounted for: ',\\\n",
        "    full_tree_test_result)\n"
      ],
      "execution_count": 14,
      "outputs": [
        {
          "output_type": "stream",
          "text": [
            "\n",
            "Full Tree Proportion of Training Set Variance Accounted for:  0.729\n",
            "\n",
            "Full Tree Proportion of Test Set Variance Accounted for:  0.612\n"
          ],
          "name": "stdout"
        },
        {
          "output_type": "stream",
          "text": [
            "/usr/local/lib/python3.6/dist-packages/ipykernel_launcher.py:16: SettingWithCopyWarning: \n",
            "A value is trying to be set on a copy of a slice from a DataFrame.\n",
            "Try using .loc[row_indexer,col_indexer] = value instead\n",
            "\n",
            "See the caveats in the documentation: https://pandas.pydata.org/pandas-docs/stable/user_guide/indexing.html#returning-a-view-versus-a-copy\n",
            "  app.launch_new_instance()\n",
            "/usr/local/lib/python3.6/dist-packages/ipykernel_launcher.py:21: SettingWithCopyWarning: \n",
            "A value is trying to be set on a copy of a slice from a DataFrame.\n",
            "Try using .loc[row_indexer,col_indexer] = value instead\n",
            "\n",
            "See the caveats in the documentation: https://pandas.pydata.org/pandas-docs/stable/user_guide/indexing.html#returning-a-view-versus-a-copy\n"
          ],
          "name": "stderr"
        }
      ]
    },
    {
      "cell_type": "code",
      "metadata": {
        "id": "ebjN-xX7ePDx",
        "colab_type": "code",
        "colab": {
          "base_uri": "https://localhost:8080/",
          "height": 326
        },
        "outputId": "40463289-bf07-4333-d7ea-bb033e4b627e"
      },
      "source": [
        "# --------------------------------------\n",
        "# Random forests (simple)\n",
        "# --------------------------------------\n",
        "rf_model_maker = RandomForestRegressor(random_state = 9999)\n",
        "\n",
        "y_train = houses_selected_train.loc[:, ['log_value']]\n",
        "\n",
        "# simple model has more predictors\n",
        "X_train_simple = houses_selected_train.loc[:, \\\n",
        "    ['income', 'age', 'rooms', 'bedrooms', 'pop', 'hh']]\n",
        "X_test_simple = houses_selected_test.loc[:, \\\n",
        "    ['income', 'age', 'rooms', 'bedrooms', 'pop', 'hh']]\n",
        "\n",
        "rf_model_fit = rf_model_maker.fit(X_train_simple, y_train)\n",
        "\n",
        "# compute the proportion of response variance for training data\n",
        "houses_selected_train['simple_rf_predict_log_value'] =\\\n",
        "    rf_model_fit.predict(X_train_simple)\n",
        "simple_rf_train_result = \\\n",
        "    round(np.power(houses_selected_train['log_value']\\\n",
        "        .corr(houses_selected_train['simple_rf_predict_log_value']),2),3)\n",
        "print('\\nSimple Random Forest Prop Training Set Variance Accounted for: ',\\\n",
        "    simple_rf_train_result)\n",
        "\n",
        "# compute the proportion of response variance for test data\n",
        "houses_selected_test['simple_rf_predict_log_value'] =\\\n",
        "    rf_model_fit.predict(X_test_simple)\n",
        "simple_rf_test_result = \\\n",
        "    round(np.power(houses_selected_test['log_value']\\\n",
        "        .corr(houses_selected_test['simple_rf_predict_log_value']),2),3)\n",
        "print('\\nSimple Random Forest Prop of Test Set Variance Accounted for: ',\\\n",
        "    simple_rf_test_result)\n"
      ],
      "execution_count": 15,
      "outputs": [
        {
          "output_type": "stream",
          "text": [
            "/usr/local/lib/python3.6/dist-packages/ipykernel_launcher.py:12: DataConversionWarning: A column-vector y was passed when a 1d array was expected. Please change the shape of y to (n_samples,), for example using ravel().\n",
            "  if sys.path[0] == '':\n"
          ],
          "name": "stderr"
        },
        {
          "output_type": "stream",
          "text": [
            "\n",
            "Simple Random Forest Prop Training Set Variance Accounted for:  0.955\n",
            "\n",
            "Simple Random Forest Prop of Test Set Variance Accounted for:  0.592\n"
          ],
          "name": "stdout"
        },
        {
          "output_type": "stream",
          "text": [
            "/usr/local/lib/python3.6/dist-packages/ipykernel_launcher.py:15: SettingWithCopyWarning: \n",
            "A value is trying to be set on a copy of a slice from a DataFrame.\n",
            "Try using .loc[row_indexer,col_indexer] = value instead\n",
            "\n",
            "See the caveats in the documentation: https://pandas.pydata.org/pandas-docs/stable/user_guide/indexing.html#returning-a-view-versus-a-copy\n",
            "  from ipykernel import kernelapp as app\n",
            "/usr/local/lib/python3.6/dist-packages/ipykernel_launcher.py:20: SettingWithCopyWarning: \n",
            "A value is trying to be set on a copy of a slice from a DataFrame.\n",
            "Try using .loc[row_indexer,col_indexer] = value instead\n",
            "\n",
            "See the caveats in the documentation: https://pandas.pydata.org/pandas-docs/stable/user_guide/indexing.html#returning-a-view-versus-a-copy\n"
          ],
          "name": "stderr"
        }
      ]
    },
    {
      "cell_type": "code",
      "metadata": {
        "id": "N3I73kcGePD1",
        "colab_type": "code",
        "colab": {
          "base_uri": "https://localhost:8080/",
          "height": 326
        },
        "outputId": "e5127ee5-7a33-412e-ede1-44f9c7d23ebc"
      },
      "source": [
        "# --------------------------------------\n",
        "# Random forests (full)\n",
        "# --------------------------------------\n",
        "rf_model_maker = RandomForestRegressor(random_state = 9999)\n",
        "\n",
        "y_train = houses_selected_train.loc[:, ['log_value']]\n",
        "\n",
        "# full model has more predictors\n",
        "X_train_full = houses_selected_train.loc[:, \\\n",
        "    ['income', 'age', 'rooms', 'bedrooms',\\\n",
        "        'pop', 'hh', 'log_pc_rooms', 'log_pc_bedrooms', 'log_pop_hh']]\n",
        "X_test_full = houses_selected_test.loc[:, \\\n",
        "    ['income', 'age', 'rooms', 'bedrooms',\\\n",
        "        'pop', 'hh', 'log_pc_rooms', 'log_pc_bedrooms', 'log_pop_hh']]\n",
        "\n",
        "rf_model_fit = rf_model_maker.fit(X_train_full, y_train)\n",
        "\n",
        "# compute the proportion of response variance for training data\n",
        "houses_selected_train['full_rf_predict_log_value'] =\\\n",
        "    rf_model_fit.predict(X_train_full)\n",
        "full_rf_train_result = \\\n",
        "    round(np.power(houses_selected_train['log_value']\\\n",
        "        .corr(houses_selected_train['full_rf_predict_log_value']),2),3)\n",
        "print('\\nFull Random Forest Prop of Training Set Variance Accounted for: ',\\\n",
        "    full_rf_train_result)\n",
        "\n",
        "# compute the proportion of response variance for test data\n",
        "houses_selected_test['full_rf_predict_log_value'] =\\\n",
        "    rf_model_fit.predict(X_test_full)\n",
        "full_rf_test_result = \\\n",
        "    round(np.power(houses_selected_test['log_value']\\\n",
        "        .corr(houses_selected_test['full_rf_predict_log_value']),2),3)\n",
        "print('\\nFull Random Forest Prop of Test Set Variance Accounted for: ',\\\n",
        "    full_rf_test_result)"
      ],
      "execution_count": 16,
      "outputs": [
        {
          "output_type": "stream",
          "text": [
            "/usr/local/lib/python3.6/dist-packages/ipykernel_launcher.py:12: DataConversionWarning: A column-vector y was passed when a 1d array was expected. Please change the shape of y to (n_samples,), for example using ravel().\n",
            "  if sys.path[0] == '':\n"
          ],
          "name": "stderr"
        },
        {
          "output_type": "stream",
          "text": [
            "\n",
            "Full Random Forest Prop of Training Set Variance Accounted for:  0.961\n",
            "\n",
            "Full Random Forest Prop of Test Set Variance Accounted for:  0.659\n"
          ],
          "name": "stdout"
        },
        {
          "output_type": "stream",
          "text": [
            "/usr/local/lib/python3.6/dist-packages/ipykernel_launcher.py:15: SettingWithCopyWarning: \n",
            "A value is trying to be set on a copy of a slice from a DataFrame.\n",
            "Try using .loc[row_indexer,col_indexer] = value instead\n",
            "\n",
            "See the caveats in the documentation: https://pandas.pydata.org/pandas-docs/stable/user_guide/indexing.html#returning-a-view-versus-a-copy\n",
            "  from ipykernel import kernelapp as app\n",
            "/usr/local/lib/python3.6/dist-packages/ipykernel_launcher.py:20: SettingWithCopyWarning: \n",
            "A value is trying to be set on a copy of a slice from a DataFrame.\n",
            "Try using .loc[row_indexer,col_indexer] = value instead\n",
            "\n",
            "See the caveats in the documentation: https://pandas.pydata.org/pandas-docs/stable/user_guide/indexing.html#returning-a-view-versus-a-copy\n"
          ],
          "name": "stderr"
        }
      ]
    },
    {
      "cell_type": "code",
      "metadata": {
        "id": "WzuzJ-6RePD4",
        "colab_type": "code",
        "colab": {
          "base_uri": "https://localhost:8080/",
          "height": 170
        },
        "outputId": "e0ce00db-4e2e-4b4d-c17d-687cede8b7f8"
      },
      "source": [
        "# --------------------------------------\n",
        "# Geographically weighted regression\n",
        "# --------------------------------------    \n",
        "# exercise for the student\n",
        "# use rpy2 to obtain results from R\n",
        "full_gwr_train_result = None\n",
        "full_gwr_test_result = None\n",
        "\n",
        "# --------------------------------------\n",
        "# Gather results for a single report\n",
        "# --------------------------------------     \n",
        "# measurement model performance summary\n",
        "table_data = {'method' : ['Linear regression Pace and Barry (1997)',\\\n",
        "    'Tree-structured regression (simple model)',\\\n",
        "    'Tree-structured regression (full model)',\\\n",
        "    'Random forests (simple model)',\\\n",
        "    'Random forests (full model)',\\\n",
        "    'Geographically weighted regression (GWR)'],\\\n",
        "    'Training Set Result' : [pace_and_barry_train_result,\\\n",
        "    simple_tree_train_result,\\\n",
        "    full_tree_train_result,\\\n",
        "    simple_rf_train_result,\\\n",
        "    full_rf_train_result,\\\n",
        "    full_gwr_train_result],\\\n",
        "    'Test Set Result' : [pace_and_barry_test_result,\\\n",
        "    simple_tree_test_result,\\\n",
        "    full_tree_test_result,\\\n",
        "    simple_rf_test_result,\\\n",
        "    full_rf_test_result,\\\n",
        "    full_gwr_test_result]}\n",
        "  \n",
        "table_data_frame = pd.DataFrame(table_data,\\\n",
        "    columns = ['method', 'Training Set Result', 'Test Set Result'])  \n",
        "    \n",
        "print(table_data_frame)    "
      ],
      "execution_count": 17,
      "outputs": [
        {
          "output_type": "stream",
          "text": [
            "                                      method  ...  Test Set Result\n",
            "0    Linear regression Pace and Barry (1997)  ...            0.568\n",
            "1  Tree-structured regression (simple model)  ...            0.461\n",
            "2    Tree-structured regression (full model)  ...            0.612\n",
            "3              Random forests (simple model)  ...            0.592\n",
            "4                Random forests (full model)  ...            0.659\n",
            "5   Geographically weighted regression (GWR)  ...              NaN\n",
            "\n",
            "[6 rows x 3 columns]\n"
          ],
          "name": "stdout"
        }
      ]
    },
    {
      "cell_type": "code",
      "metadata": {
        "id": "ioLhnO8NePD6",
        "colab_type": "code",
        "colab": {}
      },
      "source": [
        ""
      ],
      "execution_count": null,
      "outputs": []
    }
  ]
}