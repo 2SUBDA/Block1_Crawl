{
  "nbformat": 4,
  "nbformat_minor": 0,
  "metadata": {
    "colab": {
      "name": "Week3_Asynch_Classification.ipynb",
      "provenance": [],
      "collapsed_sections": [],
      "authorship_tag": "ABX9TyOtmEhW5cS2H+kVcSUhckGM",
      "include_colab_link": true
    },
    "kernelspec": {
      "name": "python3",
      "display_name": "Python 3"
    }
  },
  "cells": [
    {
      "cell_type": "markdown",
      "metadata": {
        "id": "view-in-github",
        "colab_type": "text"
      },
      "source": [
        "<a href=\"https://colab.research.google.com/github/2SUBDA/Block1_Crawl/blob/Week_3/Week3_Asynch_Classification.ipynb\" target=\"_parent\"><img src=\"https://colab.research.google.com/assets/colab-badge.svg\" alt=\"Open In Colab\"/></a>"
      ]
    },
    {
      "cell_type": "code",
      "metadata": {
        "id": "sg9VFF7Qlu2J"
      },
      "source": [
        "import pandas as pd\r\n",
        "import numpy as np\r\n",
        "from sklearn import preprocessing\r\n",
        "import matplotlib.pyplot as plt \r\n",
        "from sklearn.linear_model import LogisticRegression\r\n",
        "from sklearn.model_selection import train_test_split\r\n",
        "import seaborn as sns\r\n",
        "plt.style.use('fivethirtyeight')\r\n"
      ],
      "execution_count": 2,
      "outputs": []
    },
    {
      "cell_type": "code",
      "metadata": {
        "colab": {
          "base_uri": "https://localhost:8080/",
          "height": 241
        },
        "id": "TQ0JhnJHmWUs",
        "outputId": "0081d762-95ee-4c2a-f6a1-5adc9ed4542f"
      },
      "source": [
        "#OBTAIN\r\n",
        "\r\n",
        "data = pd.read_csv(\"https://raw.githubusercontent.com/madmashup/targeted-marketing-predictive-engine/master/banking.csv\")\r\n",
        "data = data.dropna()\r\n",
        "print(data.shape)\r\n",
        "data.head()"
      ],
      "execution_count": 36,
      "outputs": [
        {
          "output_type": "stream",
          "text": [
            "(41188, 21)\n"
          ],
          "name": "stdout"
        },
        {
          "output_type": "execute_result",
          "data": {
            "text/html": [
              "<div>\n",
              "<style scoped>\n",
              "    .dataframe tbody tr th:only-of-type {\n",
              "        vertical-align: middle;\n",
              "    }\n",
              "\n",
              "    .dataframe tbody tr th {\n",
              "        vertical-align: top;\n",
              "    }\n",
              "\n",
              "    .dataframe thead th {\n",
              "        text-align: right;\n",
              "    }\n",
              "</style>\n",
              "<table border=\"1\" class=\"dataframe\">\n",
              "  <thead>\n",
              "    <tr style=\"text-align: right;\">\n",
              "      <th></th>\n",
              "      <th>age</th>\n",
              "      <th>job</th>\n",
              "      <th>marital</th>\n",
              "      <th>education</th>\n",
              "      <th>default</th>\n",
              "      <th>housing</th>\n",
              "      <th>loan</th>\n",
              "      <th>contact</th>\n",
              "      <th>month</th>\n",
              "      <th>day_of_week</th>\n",
              "      <th>duration</th>\n",
              "      <th>campaign</th>\n",
              "      <th>pdays</th>\n",
              "      <th>previous</th>\n",
              "      <th>poutcome</th>\n",
              "      <th>emp_var_rate</th>\n",
              "      <th>cons_price_idx</th>\n",
              "      <th>cons_conf_idx</th>\n",
              "      <th>euribor3m</th>\n",
              "      <th>nr_employed</th>\n",
              "      <th>y</th>\n",
              "    </tr>\n",
              "  </thead>\n",
              "  <tbody>\n",
              "    <tr>\n",
              "      <th>0</th>\n",
              "      <td>44</td>\n",
              "      <td>blue-collar</td>\n",
              "      <td>married</td>\n",
              "      <td>basic.4y</td>\n",
              "      <td>unknown</td>\n",
              "      <td>yes</td>\n",
              "      <td>no</td>\n",
              "      <td>cellular</td>\n",
              "      <td>aug</td>\n",
              "      <td>thu</td>\n",
              "      <td>210</td>\n",
              "      <td>1</td>\n",
              "      <td>999</td>\n",
              "      <td>0</td>\n",
              "      <td>nonexistent</td>\n",
              "      <td>1.4</td>\n",
              "      <td>93.444</td>\n",
              "      <td>-36.1</td>\n",
              "      <td>4.963</td>\n",
              "      <td>5228.1</td>\n",
              "      <td>0</td>\n",
              "    </tr>\n",
              "    <tr>\n",
              "      <th>1</th>\n",
              "      <td>53</td>\n",
              "      <td>technician</td>\n",
              "      <td>married</td>\n",
              "      <td>unknown</td>\n",
              "      <td>no</td>\n",
              "      <td>no</td>\n",
              "      <td>no</td>\n",
              "      <td>cellular</td>\n",
              "      <td>nov</td>\n",
              "      <td>fri</td>\n",
              "      <td>138</td>\n",
              "      <td>1</td>\n",
              "      <td>999</td>\n",
              "      <td>0</td>\n",
              "      <td>nonexistent</td>\n",
              "      <td>-0.1</td>\n",
              "      <td>93.200</td>\n",
              "      <td>-42.0</td>\n",
              "      <td>4.021</td>\n",
              "      <td>5195.8</td>\n",
              "      <td>0</td>\n",
              "    </tr>\n",
              "    <tr>\n",
              "      <th>2</th>\n",
              "      <td>28</td>\n",
              "      <td>management</td>\n",
              "      <td>single</td>\n",
              "      <td>university.degree</td>\n",
              "      <td>no</td>\n",
              "      <td>yes</td>\n",
              "      <td>no</td>\n",
              "      <td>cellular</td>\n",
              "      <td>jun</td>\n",
              "      <td>thu</td>\n",
              "      <td>339</td>\n",
              "      <td>3</td>\n",
              "      <td>6</td>\n",
              "      <td>2</td>\n",
              "      <td>success</td>\n",
              "      <td>-1.7</td>\n",
              "      <td>94.055</td>\n",
              "      <td>-39.8</td>\n",
              "      <td>0.729</td>\n",
              "      <td>4991.6</td>\n",
              "      <td>1</td>\n",
              "    </tr>\n",
              "    <tr>\n",
              "      <th>3</th>\n",
              "      <td>39</td>\n",
              "      <td>services</td>\n",
              "      <td>married</td>\n",
              "      <td>high.school</td>\n",
              "      <td>no</td>\n",
              "      <td>no</td>\n",
              "      <td>no</td>\n",
              "      <td>cellular</td>\n",
              "      <td>apr</td>\n",
              "      <td>fri</td>\n",
              "      <td>185</td>\n",
              "      <td>2</td>\n",
              "      <td>999</td>\n",
              "      <td>0</td>\n",
              "      <td>nonexistent</td>\n",
              "      <td>-1.8</td>\n",
              "      <td>93.075</td>\n",
              "      <td>-47.1</td>\n",
              "      <td>1.405</td>\n",
              "      <td>5099.1</td>\n",
              "      <td>0</td>\n",
              "    </tr>\n",
              "    <tr>\n",
              "      <th>4</th>\n",
              "      <td>55</td>\n",
              "      <td>retired</td>\n",
              "      <td>married</td>\n",
              "      <td>basic.4y</td>\n",
              "      <td>no</td>\n",
              "      <td>yes</td>\n",
              "      <td>no</td>\n",
              "      <td>cellular</td>\n",
              "      <td>aug</td>\n",
              "      <td>fri</td>\n",
              "      <td>137</td>\n",
              "      <td>1</td>\n",
              "      <td>3</td>\n",
              "      <td>1</td>\n",
              "      <td>success</td>\n",
              "      <td>-2.9</td>\n",
              "      <td>92.201</td>\n",
              "      <td>-31.4</td>\n",
              "      <td>0.869</td>\n",
              "      <td>5076.2</td>\n",
              "      <td>1</td>\n",
              "    </tr>\n",
              "  </tbody>\n",
              "</table>\n",
              "</div>"
            ],
            "text/plain": [
              "   age          job  marital  ... euribor3m nr_employed  y\n",
              "0   44  blue-collar  married  ...     4.963      5228.1  0\n",
              "1   53   technician  married  ...     4.021      5195.8  0\n",
              "2   28   management   single  ...     0.729      4991.6  1\n",
              "3   39     services  married  ...     1.405      5099.1  0\n",
              "4   55      retired  married  ...     0.869      5076.2  1\n",
              "\n",
              "[5 rows x 21 columns]"
            ]
          },
          "metadata": {
            "tags": []
          },
          "execution_count": 36
        }
      ]
    },
    {
      "cell_type": "code",
      "metadata": {
        "id": "3dyXgb5BDB34"
      },
      "source": [
        "# SCRUB - How can we consolidate the education levels?\r\n",
        "\r\n",
        "data['education']=np.where(data['education'] =='basic.9y', 'Basic', data['education'])\r\n",
        "data['education']=np.where(data['education'] =='basic.6y', 'Basic', data['education'])\r\n",
        "data['education']=np.where(data['education'] =='basic.4y', 'Basic', data['education'])"
      ],
      "execution_count": 37,
      "outputs": []
    },
    {
      "cell_type": "code",
      "metadata": {
        "colab": {
          "base_uri": "https://localhost:8080/",
          "height": 321
        },
        "id": "VzweMfHaEOzu",
        "outputId": "0d3031fd-576a-495d-d0a8-adebe51e5827"
      },
      "source": [
        "# EXPLORE - What is the distro of our data -\r\n",
        "\r\n",
        "sns.countplot(x='y', data=data, palette=\"dark:#5A9\")"
      ],
      "execution_count": 33,
      "outputs": [
        {
          "output_type": "execute_result",
          "data": {
            "text/plain": [
              "<matplotlib.axes._subplots.AxesSubplot at 0x7f6f1ca87780>"
            ]
          },
          "metadata": {
            "tags": []
          },
          "execution_count": 33
        },
        {
          "output_type": "display_data",
          "data": {
            "image/png": "[encoded data removed]",
            "text/plain": [
              "<Figure size 432x288 with 1 Axes>"
            ]
          },
          "metadata": {
            "tags": []
          }
        }
      ]
    },
    {
      "cell_type": "code",
      "metadata": {
        "colab": {
          "base_uri": "https://localhost:8080/"
        },
        "id": "YD69IIodF8am",
        "outputId": "7c5c1fe9-13ca-42be-e711-e83065eb2a57"
      },
      "source": [
        "# EXPLORE - Graphs are good but sometimes word might be better?\r\n",
        "\r\n",
        "count_no_sub = len(data[data['y']==0])\r\n",
        "count_sub = len(data[data['y']==1])\r\n",
        "pct_of_no_sub = count_no_sub/(count_no_sub+count_sub)\r\n",
        "\r\n",
        "print(\"The data has \", f'{(pct_of_no_sub*100):.4g}', \"% of the clients without a term deposit\")\r\n",
        "print(\"and \", f'{(100-(pct_of_no_sub*100)):.4g}', \"% with a term deposit\")\r\n",
        "\r\n",
        "#pct_of_sub = count_sub/(count_no_sub+count_sub)\r\n",
        "\r\n"
      ],
      "execution_count": 12,
      "outputs": [
        {
          "output_type": "stream",
          "text": [
            "The data has  88.73 % of the clients without a term deposit\n",
            "and  11.27 % with a term deposit\n"
          ],
          "name": "stdout"
        }
      ]
    },
    {
      "cell_type": "code",
      "metadata": {
        "colab": {
          "base_uri": "https://localhost:8080/",
          "height": 162
        },
        "id": "y_xWPgIBJqe1",
        "outputId": "2bff4496-3061-4d72-f638-3d80928b710a"
      },
      "source": [
        "# EXPLORE - Let's look at the mean between some of the numeric variables\r\n",
        "\r\n",
        "data.groupby('y').mean()\r\n",
        "#data.groupby('y').median()\r\n"
      ],
      "execution_count": 16,
      "outputs": [
        {
          "output_type": "execute_result",
          "data": {
            "text/html": [
              "<div>\n",
              "<style scoped>\n",
              "    .dataframe tbody tr th:only-of-type {\n",
              "        vertical-align: middle;\n",
              "    }\n",
              "\n",
              "    .dataframe tbody tr th {\n",
              "        vertical-align: top;\n",
              "    }\n",
              "\n",
              "    .dataframe thead th {\n",
              "        text-align: right;\n",
              "    }\n",
              "</style>\n",
              "<table border=\"1\" class=\"dataframe\">\n",
              "  <thead>\n",
              "    <tr style=\"text-align: right;\">\n",
              "      <th></th>\n",
              "      <th>age</th>\n",
              "      <th>duration</th>\n",
              "      <th>campaign</th>\n",
              "      <th>pdays</th>\n",
              "      <th>previous</th>\n",
              "      <th>emp_var_rate</th>\n",
              "      <th>cons_price_idx</th>\n",
              "      <th>cons_conf_idx</th>\n",
              "      <th>euribor3m</th>\n",
              "      <th>nr_employed</th>\n",
              "    </tr>\n",
              "    <tr>\n",
              "      <th>y</th>\n",
              "      <th></th>\n",
              "      <th></th>\n",
              "      <th></th>\n",
              "      <th></th>\n",
              "      <th></th>\n",
              "      <th></th>\n",
              "      <th></th>\n",
              "      <th></th>\n",
              "      <th></th>\n",
              "      <th></th>\n",
              "    </tr>\n",
              "  </thead>\n",
              "  <tbody>\n",
              "    <tr>\n",
              "      <th>0</th>\n",
              "      <td>39.911185</td>\n",
              "      <td>220.844807</td>\n",
              "      <td>2.633085</td>\n",
              "      <td>984.113878</td>\n",
              "      <td>0.132374</td>\n",
              "      <td>0.248875</td>\n",
              "      <td>93.603757</td>\n",
              "      <td>-40.593097</td>\n",
              "      <td>3.811491</td>\n",
              "      <td>5176.166600</td>\n",
              "    </tr>\n",
              "    <tr>\n",
              "      <th>1</th>\n",
              "      <td>40.913147</td>\n",
              "      <td>553.191164</td>\n",
              "      <td>2.051724</td>\n",
              "      <td>792.035560</td>\n",
              "      <td>0.492672</td>\n",
              "      <td>-1.233448</td>\n",
              "      <td>93.354386</td>\n",
              "      <td>-39.789784</td>\n",
              "      <td>2.123135</td>\n",
              "      <td>5095.115991</td>\n",
              "    </tr>\n",
              "  </tbody>\n",
              "</table>\n",
              "</div>"
            ],
            "text/plain": [
              "         age    duration  campaign  ...  cons_conf_idx  euribor3m  nr_employed\n",
              "y                                   ...                                       \n",
              "0  39.911185  220.844807  2.633085  ...     -40.593097   3.811491  5176.166600\n",
              "1  40.913147  553.191164  2.051724  ...     -39.789784   2.123135  5095.115991\n",
              "\n",
              "[2 rows x 10 columns]"
            ]
          },
          "metadata": {
            "tags": []
          },
          "execution_count": 16
        }
      ]
    },
    {
      "cell_type": "markdown",
      "metadata": {
        "id": "wyQ0j62tKPww"
      },
      "source": [
        "So what does the above table tell us?  Slight difference in age between customers who have a term deposit and those who don't - but what else?"
      ]
    },
    {
      "cell_type": "code",
      "metadata": {
        "colab": {
          "base_uri": "https://localhost:8080/",
          "height": 304
        },
        "id": "X_563LbWKg3v",
        "outputId": "1d5a62fa-d899-4c6f-831a-7dc24778d8b7"
      },
      "source": [
        "# EXPLORE - Should we look at the graph for age?\r\n",
        "\r\n",
        "sns.boxplot(x=\"y\", y=\"age\", data=data, color = \"gray\");\r\n",
        "plt.show()"
      ],
      "execution_count": 17,
      "outputs": [
        {
          "output_type": "display_data",
          "data": {
            "image/png": "[encoded data removed]",
            "text/plain": [
              "<Figure size 432x288 with 1 Axes>"
            ]
          },
          "metadata": {
            "tags": []
          }
        }
      ]
    },
    {
      "cell_type": "code",
      "metadata": {
        "colab": {
          "base_uri": "https://localhost:8080/",
          "height": 506
        },
        "id": "5C69RZGCLE4K",
        "outputId": "3e9ae7fe-233f-4be1-b4fb-f4381bb83e06"
      },
      "source": [
        "# EXPLORE - We have a lot of categorical variables in this data - might there be some differences by job?  or by education?\r\n",
        "\r\n",
        "data.groupby('job').mean()\r\n",
        "#data.groupby('education').mean()\r\n",
        "#data.groupby('marital').mean()\r\n",
        "#data.groupby('housing').mean()\r\n"
      ],
      "execution_count": 34,
      "outputs": [
        {
          "output_type": "execute_result",
          "data": {
            "text/html": [
              "<div>\n",
              "<style scoped>\n",
              "    .dataframe tbody tr th:only-of-type {\n",
              "        vertical-align: middle;\n",
              "    }\n",
              "\n",
              "    .dataframe tbody tr th {\n",
              "        vertical-align: top;\n",
              "    }\n",
              "\n",
              "    .dataframe thead th {\n",
              "        text-align: right;\n",
              "    }\n",
              "</style>\n",
              "<table border=\"1\" class=\"dataframe\">\n",
              "  <thead>\n",
              "    <tr style=\"text-align: right;\">\n",
              "      <th></th>\n",
              "      <th>age</th>\n",
              "      <th>duration</th>\n",
              "      <th>campaign</th>\n",
              "      <th>pdays</th>\n",
              "      <th>previous</th>\n",
              "      <th>emp_var_rate</th>\n",
              "      <th>cons_price_idx</th>\n",
              "      <th>cons_conf_idx</th>\n",
              "      <th>euribor3m</th>\n",
              "      <th>nr_employed</th>\n",
              "      <th>y</th>\n",
              "      <th>job_admin.</th>\n",
              "      <th>job_blue-collar</th>\n",
              "      <th>job_entrepreneur</th>\n",
              "      <th>job_housemaid</th>\n",
              "      <th>job_management</th>\n",
              "      <th>job_retired</th>\n",
              "      <th>job_self-employed</th>\n",
              "      <th>job_services</th>\n",
              "      <th>job_student</th>\n",
              "      <th>job_technician</th>\n",
              "      <th>job_unemployed</th>\n",
              "      <th>job_unknown</th>\n",
              "      <th>marital_divorced</th>\n",
              "      <th>marital_married</th>\n",
              "      <th>marital_single</th>\n",
              "      <th>marital_unknown</th>\n",
              "      <th>education_Basic</th>\n",
              "      <th>education_high.school</th>\n",
              "      <th>education_illiterate</th>\n",
              "      <th>education_professional.course</th>\n",
              "      <th>education_university.degree</th>\n",
              "      <th>education_unknown</th>\n",
              "      <th>default_no</th>\n",
              "      <th>default_unknown</th>\n",
              "      <th>default_yes</th>\n",
              "      <th>housing_no</th>\n",
              "      <th>housing_unknown</th>\n",
              "      <th>housing_yes</th>\n",
              "    </tr>\n",
              "    <tr>\n",
              "      <th>job</th>\n",
              "      <th></th>\n",
              "      <th></th>\n",
              "      <th></th>\n",
              "      <th></th>\n",
              "      <th></th>\n",
              "      <th></th>\n",
              "      <th></th>\n",
              "      <th></th>\n",
              "      <th></th>\n",
              "      <th></th>\n",
              "      <th></th>\n",
              "      <th></th>\n",
              "      <th></th>\n",
              "      <th></th>\n",
              "      <th></th>\n",
              "      <th></th>\n",
              "      <th></th>\n",
              "      <th></th>\n",
              "      <th></th>\n",
              "      <th></th>\n",
              "      <th></th>\n",
              "      <th></th>\n",
              "      <th></th>\n",
              "      <th></th>\n",
              "      <th></th>\n",
              "      <th></th>\n",
              "      <th></th>\n",
              "      <th></th>\n",
              "      <th></th>\n",
              "      <th></th>\n",
              "      <th></th>\n",
              "      <th></th>\n",
              "      <th></th>\n",
              "      <th></th>\n",
              "      <th></th>\n",
              "      <th></th>\n",
              "      <th></th>\n",
              "      <th></th>\n",
              "      <th></th>\n",
              "    </tr>\n",
              "  </thead>\n",
              "  <tbody>\n",
              "    <tr>\n",
              "      <th>admin.</th>\n",
              "      <td>38.187296</td>\n",
              "      <td>254.312128</td>\n",
              "      <td>2.623489</td>\n",
              "      <td>954.319229</td>\n",
              "      <td>0.189023</td>\n",
              "      <td>0.015563</td>\n",
              "      <td>93.534054</td>\n",
              "      <td>-40.245433</td>\n",
              "      <td>3.550274</td>\n",
              "      <td>5164.125350</td>\n",
              "      <td>0.129726</td>\n",
              "      <td>1.0</td>\n",
              "      <td>0.0</td>\n",
              "      <td>0.0</td>\n",
              "      <td>0.0</td>\n",
              "      <td>0.0</td>\n",
              "      <td>0.0</td>\n",
              "      <td>0.0</td>\n",
              "      <td>0.0</td>\n",
              "      <td>0.0</td>\n",
              "      <td>0.0</td>\n",
              "      <td>0.0</td>\n",
              "      <td>0.0</td>\n",
              "      <td>0.122817</td>\n",
              "      <td>0.504030</td>\n",
              "      <td>0.371810</td>\n",
              "      <td>0.001343</td>\n",
              "      <td>0.069756</td>\n",
              "      <td>0.319420</td>\n",
              "      <td>0.000096</td>\n",
              "      <td>0.034830</td>\n",
              "      <td>0.552005</td>\n",
              "      <td>0.023892</td>\n",
              "      <td>0.875936</td>\n",
              "      <td>0.124064</td>\n",
              "      <td>0.000000</td>\n",
              "      <td>0.444828</td>\n",
              "      <td>0.021781</td>\n",
              "      <td>0.533391</td>\n",
              "    </tr>\n",
              "    <tr>\n",
              "      <th>blue-collar</th>\n",
              "      <td>39.555760</td>\n",
              "      <td>264.542360</td>\n",
              "      <td>2.558461</td>\n",
              "      <td>985.160363</td>\n",
              "      <td>0.122542</td>\n",
              "      <td>0.248995</td>\n",
              "      <td>93.656656</td>\n",
              "      <td>-41.375816</td>\n",
              "      <td>3.771996</td>\n",
              "      <td>5175.615150</td>\n",
              "      <td>0.068943</td>\n",
              "      <td>0.0</td>\n",
              "      <td>1.0</td>\n",
              "      <td>0.0</td>\n",
              "      <td>0.0</td>\n",
              "      <td>0.0</td>\n",
              "      <td>0.0</td>\n",
              "      <td>0.0</td>\n",
              "      <td>0.0</td>\n",
              "      <td>0.0</td>\n",
              "      <td>0.0</td>\n",
              "      <td>0.0</td>\n",
              "      <td>0.0</td>\n",
              "      <td>0.078669</td>\n",
              "      <td>0.722606</td>\n",
              "      <td>0.197212</td>\n",
              "      <td>0.001513</td>\n",
              "      <td>0.796088</td>\n",
              "      <td>0.094878</td>\n",
              "      <td>0.000864</td>\n",
              "      <td>0.048952</td>\n",
              "      <td>0.010158</td>\n",
              "      <td>0.049060</td>\n",
              "      <td>0.657878</td>\n",
              "      <td>0.342122</td>\n",
              "      <td>0.000000</td>\n",
              "      <td>0.465096</td>\n",
              "      <td>0.025935</td>\n",
              "      <td>0.508969</td>\n",
              "    </tr>\n",
              "    <tr>\n",
              "      <th>entrepreneur</th>\n",
              "      <td>41.723214</td>\n",
              "      <td>263.267857</td>\n",
              "      <td>2.535714</td>\n",
              "      <td>981.267170</td>\n",
              "      <td>0.138736</td>\n",
              "      <td>0.158723</td>\n",
              "      <td>93.605372</td>\n",
              "      <td>-41.283654</td>\n",
              "      <td>3.791120</td>\n",
              "      <td>5176.313530</td>\n",
              "      <td>0.085165</td>\n",
              "      <td>0.0</td>\n",
              "      <td>0.0</td>\n",
              "      <td>1.0</td>\n",
              "      <td>0.0</td>\n",
              "      <td>0.0</td>\n",
              "      <td>0.0</td>\n",
              "      <td>0.0</td>\n",
              "      <td>0.0</td>\n",
              "      <td>0.0</td>\n",
              "      <td>0.0</td>\n",
              "      <td>0.0</td>\n",
              "      <td>0.0</td>\n",
              "      <td>0.122940</td>\n",
              "      <td>0.735577</td>\n",
              "      <td>0.139423</td>\n",
              "      <td>0.002060</td>\n",
              "      <td>0.287088</td>\n",
              "      <td>0.160714</td>\n",
              "      <td>0.001374</td>\n",
              "      <td>0.092720</td>\n",
              "      <td>0.418956</td>\n",
              "      <td>0.039148</td>\n",
              "      <td>0.793269</td>\n",
              "      <td>0.206731</td>\n",
              "      <td>0.000000</td>\n",
              "      <td>0.440247</td>\n",
              "      <td>0.024725</td>\n",
              "      <td>0.535027</td>\n",
              "    </tr>\n",
              "    <tr>\n",
              "      <th>housemaid</th>\n",
              "      <td>45.500000</td>\n",
              "      <td>250.454717</td>\n",
              "      <td>2.639623</td>\n",
              "      <td>960.579245</td>\n",
              "      <td>0.137736</td>\n",
              "      <td>0.433396</td>\n",
              "      <td>93.676576</td>\n",
              "      <td>-39.495283</td>\n",
              "      <td>4.009645</td>\n",
              "      <td>5179.529623</td>\n",
              "      <td>0.100000</td>\n",
              "      <td>0.0</td>\n",
              "      <td>0.0</td>\n",
              "      <td>0.0</td>\n",
              "      <td>1.0</td>\n",
              "      <td>0.0</td>\n",
              "      <td>0.0</td>\n",
              "      <td>0.0</td>\n",
              "      <td>0.0</td>\n",
              "      <td>0.0</td>\n",
              "      <td>0.0</td>\n",
              "      <td>0.0</td>\n",
              "      <td>0.0</td>\n",
              "      <td>0.151887</td>\n",
              "      <td>0.733019</td>\n",
              "      <td>0.112264</td>\n",
              "      <td>0.002830</td>\n",
              "      <td>0.608491</td>\n",
              "      <td>0.164151</td>\n",
              "      <td>0.000943</td>\n",
              "      <td>0.055660</td>\n",
              "      <td>0.131132</td>\n",
              "      <td>0.039623</td>\n",
              "      <td>0.699057</td>\n",
              "      <td>0.300943</td>\n",
              "      <td>0.000000</td>\n",
              "      <td>0.463208</td>\n",
              "      <td>0.027358</td>\n",
              "      <td>0.509434</td>\n",
              "    </tr>\n",
              "    <tr>\n",
              "      <th>management</th>\n",
              "      <td>42.362859</td>\n",
              "      <td>257.058140</td>\n",
              "      <td>2.476060</td>\n",
              "      <td>962.647059</td>\n",
              "      <td>0.185021</td>\n",
              "      <td>-0.012688</td>\n",
              "      <td>93.522755</td>\n",
              "      <td>-40.489466</td>\n",
              "      <td>3.611316</td>\n",
              "      <td>5166.650513</td>\n",
              "      <td>0.112175</td>\n",
              "      <td>0.0</td>\n",
              "      <td>0.0</td>\n",
              "      <td>0.0</td>\n",
              "      <td>0.0</td>\n",
              "      <td>1.0</td>\n",
              "      <td>0.0</td>\n",
              "      <td>0.0</td>\n",
              "      <td>0.0</td>\n",
              "      <td>0.0</td>\n",
              "      <td>0.0</td>\n",
              "      <td>0.0</td>\n",
              "      <td>0.0</td>\n",
              "      <td>0.113201</td>\n",
              "      <td>0.714432</td>\n",
              "      <td>0.171341</td>\n",
              "      <td>0.001026</td>\n",
              "      <td>0.120041</td>\n",
              "      <td>0.101915</td>\n",
              "      <td>0.000000</td>\n",
              "      <td>0.030438</td>\n",
              "      <td>0.705540</td>\n",
              "      <td>0.042066</td>\n",
              "      <td>0.843365</td>\n",
              "      <td>0.156635</td>\n",
              "      <td>0.000000</td>\n",
              "      <td>0.466142</td>\n",
              "      <td>0.024282</td>\n",
              "      <td>0.509576</td>\n",
              "    </tr>\n",
              "    <tr>\n",
              "      <th>retired</th>\n",
              "      <td>62.027326</td>\n",
              "      <td>273.712209</td>\n",
              "      <td>2.476744</td>\n",
              "      <td>897.936047</td>\n",
              "      <td>0.327326</td>\n",
              "      <td>-0.698314</td>\n",
              "      <td>93.430786</td>\n",
              "      <td>-38.573081</td>\n",
              "      <td>2.770066</td>\n",
              "      <td>5122.262151</td>\n",
              "      <td>0.252326</td>\n",
              "      <td>0.0</td>\n",
              "      <td>0.0</td>\n",
              "      <td>0.0</td>\n",
              "      <td>0.0</td>\n",
              "      <td>0.0</td>\n",
              "      <td>1.0</td>\n",
              "      <td>0.0</td>\n",
              "      <td>0.0</td>\n",
              "      <td>0.0</td>\n",
              "      <td>0.0</td>\n",
              "      <td>0.0</td>\n",
              "      <td>0.0</td>\n",
              "      <td>0.202326</td>\n",
              "      <td>0.740698</td>\n",
              "      <td>0.054070</td>\n",
              "      <td>0.002907</td>\n",
              "      <td>0.475000</td>\n",
              "      <td>0.160465</td>\n",
              "      <td>0.001744</td>\n",
              "      <td>0.140116</td>\n",
              "      <td>0.165698</td>\n",
              "      <td>0.056977</td>\n",
              "      <td>0.771512</td>\n",
              "      <td>0.228488</td>\n",
              "      <td>0.000000</td>\n",
              "      <td>0.455814</td>\n",
              "      <td>0.025581</td>\n",
              "      <td>0.518605</td>\n",
              "    </tr>\n",
              "    <tr>\n",
              "      <th>self-employed</th>\n",
              "      <td>39.949331</td>\n",
              "      <td>264.142153</td>\n",
              "      <td>2.660802</td>\n",
              "      <td>976.621393</td>\n",
              "      <td>0.143561</td>\n",
              "      <td>0.094159</td>\n",
              "      <td>93.559982</td>\n",
              "      <td>-40.488107</td>\n",
              "      <td>3.689376</td>\n",
              "      <td>5170.674384</td>\n",
              "      <td>0.104856</td>\n",
              "      <td>0.0</td>\n",
              "      <td>0.0</td>\n",
              "      <td>0.0</td>\n",
              "      <td>0.0</td>\n",
              "      <td>0.0</td>\n",
              "      <td>0.0</td>\n",
              "      <td>1.0</td>\n",
              "      <td>0.0</td>\n",
              "      <td>0.0</td>\n",
              "      <td>0.0</td>\n",
              "      <td>0.0</td>\n",
              "      <td>0.0</td>\n",
              "      <td>0.093596</td>\n",
              "      <td>0.636172</td>\n",
              "      <td>0.266714</td>\n",
              "      <td>0.003519</td>\n",
              "      <td>0.237861</td>\n",
              "      <td>0.083040</td>\n",
              "      <td>0.002111</td>\n",
              "      <td>0.118227</td>\n",
              "      <td>0.538353</td>\n",
              "      <td>0.020408</td>\n",
              "      <td>0.801548</td>\n",
              "      <td>0.198452</td>\n",
              "      <td>0.000000</td>\n",
              "      <td>0.451091</td>\n",
              "      <td>0.028149</td>\n",
              "      <td>0.520760</td>\n",
              "    </tr>\n",
              "    <tr>\n",
              "      <th>services</th>\n",
              "      <td>37.926430</td>\n",
              "      <td>258.398085</td>\n",
              "      <td>2.587805</td>\n",
              "      <td>979.974049</td>\n",
              "      <td>0.154951</td>\n",
              "      <td>0.175359</td>\n",
              "      <td>93.634659</td>\n",
              "      <td>-41.290048</td>\n",
              "      <td>3.699187</td>\n",
              "      <td>5171.600126</td>\n",
              "      <td>0.081381</td>\n",
              "      <td>0.0</td>\n",
              "      <td>0.0</td>\n",
              "      <td>0.0</td>\n",
              "      <td>0.0</td>\n",
              "      <td>0.0</td>\n",
              "      <td>0.0</td>\n",
              "      <td>0.0</td>\n",
              "      <td>1.0</td>\n",
              "      <td>0.0</td>\n",
              "      <td>0.0</td>\n",
              "      <td>0.0</td>\n",
              "      <td>0.0</td>\n",
              "      <td>0.134039</td>\n",
              "      <td>0.577979</td>\n",
              "      <td>0.286470</td>\n",
              "      <td>0.001512</td>\n",
              "      <td>0.187957</td>\n",
              "      <td>0.675737</td>\n",
              "      <td>0.000000</td>\n",
              "      <td>0.054926</td>\n",
              "      <td>0.043588</td>\n",
              "      <td>0.037793</td>\n",
              "      <td>0.769211</td>\n",
              "      <td>0.230789</td>\n",
              "      <td>0.000000</td>\n",
              "      <td>0.458050</td>\n",
              "      <td>0.025447</td>\n",
              "      <td>0.516503</td>\n",
              "    </tr>\n",
              "    <tr>\n",
              "      <th>student</th>\n",
              "      <td>25.894857</td>\n",
              "      <td>283.683429</td>\n",
              "      <td>2.104000</td>\n",
              "      <td>840.217143</td>\n",
              "      <td>0.524571</td>\n",
              "      <td>-1.408000</td>\n",
              "      <td>93.331613</td>\n",
              "      <td>-40.187543</td>\n",
              "      <td>1.884224</td>\n",
              "      <td>5085.939086</td>\n",
              "      <td>0.314286</td>\n",
              "      <td>0.0</td>\n",
              "      <td>0.0</td>\n",
              "      <td>0.0</td>\n",
              "      <td>0.0</td>\n",
              "      <td>0.0</td>\n",
              "      <td>0.0</td>\n",
              "      <td>0.0</td>\n",
              "      <td>0.0</td>\n",
              "      <td>1.0</td>\n",
              "      <td>0.0</td>\n",
              "      <td>0.0</td>\n",
              "      <td>0.0</td>\n",
              "      <td>0.010286</td>\n",
              "      <td>0.046857</td>\n",
              "      <td>0.941714</td>\n",
              "      <td>0.001143</td>\n",
              "      <td>0.157714</td>\n",
              "      <td>0.408000</td>\n",
              "      <td>0.000000</td>\n",
              "      <td>0.049143</td>\n",
              "      <td>0.194286</td>\n",
              "      <td>0.190857</td>\n",
              "      <td>0.881143</td>\n",
              "      <td>0.118857</td>\n",
              "      <td>0.000000</td>\n",
              "      <td>0.435429</td>\n",
              "      <td>0.026286</td>\n",
              "      <td>0.538286</td>\n",
              "    </tr>\n",
              "    <tr>\n",
              "      <th>technician</th>\n",
              "      <td>38.507638</td>\n",
              "      <td>250.232241</td>\n",
              "      <td>2.577339</td>\n",
              "      <td>964.408127</td>\n",
              "      <td>0.153789</td>\n",
              "      <td>0.274566</td>\n",
              "      <td>93.561471</td>\n",
              "      <td>-39.927569</td>\n",
              "      <td>3.820401</td>\n",
              "      <td>5175.648391</td>\n",
              "      <td>0.108260</td>\n",
              "      <td>0.0</td>\n",
              "      <td>0.0</td>\n",
              "      <td>0.0</td>\n",
              "      <td>0.0</td>\n",
              "      <td>0.0</td>\n",
              "      <td>0.0</td>\n",
              "      <td>0.0</td>\n",
              "      <td>0.0</td>\n",
              "      <td>0.0</td>\n",
              "      <td>1.0</td>\n",
              "      <td>0.0</td>\n",
              "      <td>0.0</td>\n",
              "      <td>0.114786</td>\n",
              "      <td>0.544268</td>\n",
              "      <td>0.339167</td>\n",
              "      <td>0.001780</td>\n",
              "      <td>0.078452</td>\n",
              "      <td>0.129468</td>\n",
              "      <td>0.000000</td>\n",
              "      <td>0.492362</td>\n",
              "      <td>0.268278</td>\n",
              "      <td>0.031440</td>\n",
              "      <td>0.854961</td>\n",
              "      <td>0.144743</td>\n",
              "      <td>0.000297</td>\n",
              "      <td>0.441940</td>\n",
              "      <td>0.021800</td>\n",
              "      <td>0.536260</td>\n",
              "    </tr>\n",
              "    <tr>\n",
              "      <th>unemployed</th>\n",
              "      <td>39.733728</td>\n",
              "      <td>249.451677</td>\n",
              "      <td>2.564103</td>\n",
              "      <td>935.316568</td>\n",
              "      <td>0.199211</td>\n",
              "      <td>-0.111736</td>\n",
              "      <td>93.563781</td>\n",
              "      <td>-40.007594</td>\n",
              "      <td>3.466583</td>\n",
              "      <td>5157.156509</td>\n",
              "      <td>0.142012</td>\n",
              "      <td>0.0</td>\n",
              "      <td>0.0</td>\n",
              "      <td>0.0</td>\n",
              "      <td>0.0</td>\n",
              "      <td>0.0</td>\n",
              "      <td>0.0</td>\n",
              "      <td>0.0</td>\n",
              "      <td>0.0</td>\n",
              "      <td>0.0</td>\n",
              "      <td>0.0</td>\n",
              "      <td>1.0</td>\n",
              "      <td>0.0</td>\n",
              "      <td>0.122288</td>\n",
              "      <td>0.625247</td>\n",
              "      <td>0.247535</td>\n",
              "      <td>0.004931</td>\n",
              "      <td>0.327416</td>\n",
              "      <td>0.255424</td>\n",
              "      <td>0.000000</td>\n",
              "      <td>0.140039</td>\n",
              "      <td>0.258383</td>\n",
              "      <td>0.018738</td>\n",
              "      <td>0.765286</td>\n",
              "      <td>0.233728</td>\n",
              "      <td>0.000986</td>\n",
              "      <td>0.424063</td>\n",
              "      <td>0.026627</td>\n",
              "      <td>0.549310</td>\n",
              "    </tr>\n",
              "    <tr>\n",
              "      <th>unknown</th>\n",
              "      <td>45.563636</td>\n",
              "      <td>239.675758</td>\n",
              "      <td>2.648485</td>\n",
              "      <td>938.727273</td>\n",
              "      <td>0.154545</td>\n",
              "      <td>0.357879</td>\n",
              "      <td>93.718942</td>\n",
              "      <td>-38.797879</td>\n",
              "      <td>3.949033</td>\n",
              "      <td>5172.931818</td>\n",
              "      <td>0.112121</td>\n",
              "      <td>0.0</td>\n",
              "      <td>0.0</td>\n",
              "      <td>0.0</td>\n",
              "      <td>0.0</td>\n",
              "      <td>0.0</td>\n",
              "      <td>0.0</td>\n",
              "      <td>0.0</td>\n",
              "      <td>0.0</td>\n",
              "      <td>0.0</td>\n",
              "      <td>0.0</td>\n",
              "      <td>0.0</td>\n",
              "      <td>1.0</td>\n",
              "      <td>0.039394</td>\n",
              "      <td>0.709091</td>\n",
              "      <td>0.224242</td>\n",
              "      <td>0.027273</td>\n",
              "      <td>0.318182</td>\n",
              "      <td>0.112121</td>\n",
              "      <td>0.000000</td>\n",
              "      <td>0.036364</td>\n",
              "      <td>0.136364</td>\n",
              "      <td>0.396970</td>\n",
              "      <td>0.539394</td>\n",
              "      <td>0.460606</td>\n",
              "      <td>0.000000</td>\n",
              "      <td>0.463636</td>\n",
              "      <td>0.015152</td>\n",
              "      <td>0.521212</td>\n",
              "    </tr>\n",
              "  </tbody>\n",
              "</table>\n",
              "</div>"
            ],
            "text/plain": [
              "                     age    duration  ...  housing_unknown  housing_yes\n",
              "job                                   ...                              \n",
              "admin.         38.187296  254.312128  ...         0.021781     0.533391\n",
              "blue-collar    39.555760  264.542360  ...         0.025935     0.508969\n",
              "entrepreneur   41.723214  263.267857  ...         0.024725     0.535027\n",
              "housemaid      45.500000  250.454717  ...         0.027358     0.509434\n",
              "management     42.362859  257.058140  ...         0.024282     0.509576\n",
              "retired        62.027326  273.712209  ...         0.025581     0.518605\n",
              "self-employed  39.949331  264.142153  ...         0.028149     0.520760\n",
              "services       37.926430  258.398085  ...         0.025447     0.516503\n",
              "student        25.894857  283.683429  ...         0.026286     0.538286\n",
              "technician     38.507638  250.232241  ...         0.021800     0.536260\n",
              "unemployed     39.733728  249.451677  ...         0.026627     0.549310\n",
              "unknown        45.563636  239.675758  ...         0.015152     0.521212\n",
              "\n",
              "[12 rows x 39 columns]"
            ]
          },
          "metadata": {
            "tags": []
          },
          "execution_count": 34
        }
      ]
    },
    {
      "cell_type": "code",
      "metadata": {
        "colab": {
          "base_uri": "https://localhost:8080/",
          "height": 426
        },
        "id": "JTqTAiSCLneS",
        "outputId": "5be09939-804c-43f5-8899-bd5880ad0e1d"
      },
      "source": [
        "# EXPLORE - But the visualization of this might be better\r\n",
        "\r\n",
        "pd.crosstab(data.job,data.y).plot(kind='bar')\r\n",
        "plt.title('Term Deposit Purchase Frequency by Job Title')\r\n",
        "plt.xlabel('Job')\r\n",
        "plt.ylabel('Frequency of Purchase')\r\n",
        "\r\n",
        "# CONSIDER LOOKING AT OTHER CATEGORICAL VARIABLES"
      ],
      "execution_count": 20,
      "outputs": [
        {
          "output_type": "execute_result",
          "data": {
            "text/plain": [
              "Text(0, 0.5, 'Frequency of Purchase')"
            ]
          },
          "metadata": {
            "tags": []
          },
          "execution_count": 20
        },
        {
          "output_type": "display_data",
          "data": {
            "image/png": "[encoded data removed]",
            "text/plain": [
              "<Figure size 432x288 with 1 Axes>"
            ]
          },
          "metadata": {
            "tags": []
          }
        }
      ]
    },
    {
      "cell_type": "code",
      "metadata": {
        "colab": {
          "base_uri": "https://localhost:8080/",
          "height": 391
        },
        "id": "_tFJoWHgMPIK",
        "outputId": "969218d1-6e28-495a-fe7a-b3ed6883f151"
      },
      "source": [
        "# EXPLORE \r\n",
        "table=pd.crosstab(data.housing,data.y)\r\n",
        "table.div(table.sum(1).astype(float), axis=0).plot(kind='bar', stacked=True)\r\n",
        "plt.title('Stacked Bar Chart of Housing Status vs Purchase')\r\n",
        "plt.xlabel('Housing Status')\r\n",
        "plt.ylabel('Proportion of Customers')\r\n",
        "\r\n",
        "# CONSIDER - Okay housing might not be good - what about education?  Or Marital? \r\n",
        "\r\n",
        "# CONSIDER - Does time matter?  Day of week vs Month of Year?"
      ],
      "execution_count": 22,
      "outputs": [
        {
          "output_type": "execute_result",
          "data": {
            "text/plain": [
              "Text(0, 0.5, 'Proportion of Customers')"
            ]
          },
          "metadata": {
            "tags": []
          },
          "execution_count": 22
        },
        {
          "output_type": "display_data",
          "data": {
            "image/png": "[encoded data removed]",
            "text/plain": [
              "<Figure size 432x288 with 1 Axes>"
            ]
          },
          "metadata": {
            "tags": []
          }
        }
      ]
    },
    {
      "cell_type": "code",
      "metadata": {
        "colab": {
          "base_uri": "https://localhost:8080/",
          "height": 410
        },
        "id": "dzgavSxfNSjO",
        "outputId": "8a0f8ba2-c4c3-4415-e945-854ebbe10c64"
      },
      "source": [
        "# EXPLORE - Does marketing make a difference?\r\n",
        "\r\n",
        "pd.crosstab(data.poutcome,data.y).plot(kind='bar')\r\n",
        "plt.title('Purchase Frequency based on Previous Campaign')\r\n",
        "plt.xlabel('Did the last campaign work?')\r\n",
        "plt.ylabel('Frequency of Purchase')\r\n"
      ],
      "execution_count": 24,
      "outputs": [
        {
          "output_type": "execute_result",
          "data": {
            "text/plain": [
              "Text(0, 0.5, 'Frequency of Purchase')"
            ]
          },
          "metadata": {
            "tags": []
          },
          "execution_count": 24
        },
        {
          "output_type": "display_data",
          "data": {
            "image/png": "[encoded data removed]",
            "text/plain": [
              "<Figure size 432x288 with 1 Axes>"
            ]
          },
          "metadata": {
            "tags": []
          }
        }
      ]
    },
    {
      "cell_type": "code",
      "metadata": {
        "id": "z6IwgctCOMO9"
      },
      "source": [
        "# SCRUB - One More Change to Make for Modeling\r\n",
        "# SCRUB - We need to create dummy variables for our categorical variables\r\n",
        "# SCRUB - https://www.askpython.com/python/examples/creating-dummy-variables\r\n",
        "\r\n",
        "cat_vars=['job','marital','education','default','housing','loan','contact','month','day_of_week','poutcome']\r\n",
        "for var in cat_vars:\r\n",
        "    cat_list='var'+'_'+var\r\n",
        "    cat_list = pd.get_dummies(data[var], prefix=var)\r\n",
        "    data_temp = data.join(cat_list)\r\n",
        "    data = data_temp\r\n",
        "cat_vars=['job','marital','education','default','housing','loan','contact','month','day_of_week','poutcome']\r\n",
        "data_vars=data.columns.values.tolist()\r\n",
        "to_keep=[i for i in data_vars if i not in cat_vars]"
      ],
      "execution_count": 38,
      "outputs": []
    },
    {
      "cell_type": "code",
      "metadata": {
        "colab": {
          "base_uri": "https://localhost:8080/"
        },
        "id": "vOaLm4cuO8UR",
        "outputId": "c0ef147a-bb01-4dde-b345-acc7ce4477fc"
      },
      "source": [
        "data_final = data[to_keep]\r\n",
        "data_final.columns.values"
      ],
      "execution_count": 42,
      "outputs": [
        {
          "output_type": "execute_result",
          "data": {
            "text/plain": [
              "array(['age', 'duration', 'campaign', 'pdays', 'previous', 'emp_var_rate',\n",
              "       'cons_price_idx', 'cons_conf_idx', 'euribor3m', 'nr_employed', 'y',\n",
              "       'job_admin.', 'job_blue-collar', 'job_entrepreneur',\n",
              "       'job_housemaid', 'job_management', 'job_retired',\n",
              "       'job_self-employed', 'job_services', 'job_student',\n",
              "       'job_technician', 'job_unemployed', 'job_unknown',\n",
              "       'marital_divorced', 'marital_married', 'marital_single',\n",
              "       'marital_unknown', 'education_Basic', 'education_high.school',\n",
              "       'education_illiterate', 'education_professional.course',\n",
              "       'education_university.degree', 'education_unknown', 'default_no',\n",
              "       'default_unknown', 'default_yes', 'housing_no', 'housing_unknown',\n",
              "       'housing_yes', 'loan_no', 'loan_unknown', 'loan_yes',\n",
              "       'contact_cellular', 'contact_telephone', 'month_apr', 'month_aug',\n",
              "       'month_dec', 'month_jul', 'month_jun', 'month_mar', 'month_may',\n",
              "       'month_nov', 'month_oct', 'month_sep', 'day_of_week_fri',\n",
              "       'day_of_week_mon', 'day_of_week_thu', 'day_of_week_tue',\n",
              "       'day_of_week_wed', 'poutcome_failure', 'poutcome_nonexistent',\n",
              "       'poutcome_success'], dtype=object)"
            ]
          },
          "metadata": {
            "tags": []
          },
          "execution_count": 42
        }
      ]
    },
    {
      "cell_type": "code",
      "metadata": {
        "id": "ia-i-BJJRWgM"
      },
      "source": [
        "# SCRUB - Let's break out our training data and test data\r\n",
        "# NOTE - We are not going to look at balancing our data\r\n",
        "# Consider - https://www.kite.com/blog/python/smote-python-imbalanced-learn-for-oversampling/ for an \r\n",
        "# example of using SMOTE\r\n",
        "\r\n",
        "X = data_final.loc[:, data_final.columns != 'y']\r\n",
        "y = data_final.loc[:, data_final.columns == 'y']\r\n",
        "\r\n",
        "X_train, X_test, y_train, y_test = train_test_split(X, y, test_size=0.3, random_state=0)"
      ],
      "execution_count": 43,
      "outputs": []
    },
    {
      "cell_type": "code",
      "metadata": {
        "colab": {
          "base_uri": "https://localhost:8080/"
        },
        "id": "yKYeq3ByTUbY",
        "outputId": "f7058f3a-2cb4-4c6e-c9ad-683c99d286e7"
      },
      "source": [
        "# MODEL\r\n",
        "\r\n",
        "import statsmodels.api as sm\r\n",
        "logit_model=sm.Logit(y_train,X_train)\r\n",
        "result=logit_model.fit()\r\n",
        "print(result.summary2())"
      ],
      "execution_count": 44,
      "outputs": [
        {
          "output_type": "stream",
          "text": [
            "/usr/local/lib/python3.6/dist-packages/statsmodels/tools/_testing.py:19: FutureWarning: pandas.util.testing is deprecated. Use the functions in the public API at pandas.testing instead.\n",
            "  import pandas.util.testing as tm\n"
          ],
          "name": "stderr"
        },
        {
          "output_type": "stream",
          "text": [
            "Warning: Maximum number of iterations has been exceeded.\n",
            "         Current function value: 0.209557\n",
            "         Iterations: 35\n"
          ],
          "name": "stdout"
        },
        {
          "output_type": "stream",
          "text": [
            "/usr/local/lib/python3.6/dist-packages/statsmodels/base/model.py:512: ConvergenceWarning: Maximum Likelihood optimization failed to converge. Check mle_retvals\n",
            "  \"Check mle_retvals\", ConvergenceWarning)\n",
            "/usr/local/lib/python3.6/dist-packages/statsmodels/base/model.py:1286: RuntimeWarning: invalid value encountered in sqrt\n",
            "  bse_ = np.sqrt(np.diag(self.cov_params()))\n"
          ],
          "name": "stderr"
        },
        {
          "output_type": "stream",
          "text": [
            "                                         Results: Logit\n",
            "================================================================================================\n",
            "Model:                         Logit                      Pseudo R-squared:           0.407     \n",
            "Dependent Variable:            y                          AIC:                        12185.4599\n",
            "Date:                          2021-01-27 19:25           BIC:                        12607.1895\n",
            "No. Observations:              28831                      Log-Likelihood:             -6041.7   \n",
            "Df Model:                      50                         LL-Null:                    -10182.   \n",
            "Df Residuals:                  28780                      LLR p-value:                0.0000    \n",
            "Converged:                     0.0000                     Scale:                      1.0000    \n",
            "No. Iterations:                35.0000                                                          \n",
            "------------------------------------------------------------------------------------------------\n",
            "                               Coef.     Std.Err.      z     P>|z|      [0.025         0.975]   \n",
            "------------------------------------------------------------------------------------------------\n",
            "age                             0.0008       0.0029   0.2718 0.7858        -0.0049        0.0064\n",
            "duration                        0.0047       0.0001  52.6880 0.0000         0.0045        0.0048\n",
            "campaign                       -0.0334       0.0136  -2.4617 0.0138        -0.0600       -0.0068\n",
            "pdays                          -0.0011       0.0003  -4.0753 0.0000        -0.0016       -0.0005\n",
            "previous                       -0.0719       0.0706  -1.0189 0.3083        -0.2103        0.0664\n",
            "emp_var_rate                   -1.8328       0.1706 -10.7453 0.0000        -2.1671       -1.4985\n",
            "cons_price_idx                  2.3539       0.3015   7.8060 0.0000         1.7629        2.9449\n",
            "cons_conf_idx                   0.0259       0.0092   2.8196 0.0048         0.0079        0.0440\n",
            "euribor3m                       0.2522       0.1531   1.6481 0.0993        -0.0477        0.5522\n",
            "nr_employed                     0.0083       0.0037   2.2340 0.0255         0.0010        0.0156\n",
            "job_admin.                     -8.4062 6057273.8028  -0.0000 1.0000 -11872046.9042 11872030.0918\n",
            "job_blue-collar                -8.6690 6055581.9126  -0.0000 1.0000 -11868731.1231 11868713.7850\n",
            "job_entrepreneur               -8.6359 6052534.2372  -0.0000 1.0000 -11862757.7561 11862740.4842\n",
            "job_housemaid                  -8.5845 6060309.7714  -0.0000 1.0000 -11877997.4716 11877980.3026\n",
            "job_management                 -8.4452 6026640.1582  -0.0000 1.0000 -11812006.1032 11811989.2127\n",
            "job_retired                    -8.1287 6057131.9117  -0.0000 1.0000 -11871768.5252 11871752.2677\n",
            "job_self-employed              -8.7244 6001371.1914  -0.0000 1.0000 -11762480.1175 11762462.6686\n",
            "job_services                   -8.5316 6057760.4099  -0.0000 1.0000 -11873000.7621 11872983.6989\n",
            "job_student                    -8.1826 6027900.2633  -0.0000 1.0000 -11814475.6011 11814459.2359\n",
            "job_technician                 -8.5003 6055381.8928  -0.0000 1.0000 -11868338.9228 11868321.9221\n",
            "job_unemployed                 -8.3862 6035884.3178  -0.0000 1.0000 -11830124.2640 11830107.4916\n",
            "job_unknown                    -8.3064 6024251.9848  -0.0000 1.0000 -11807325.2304 11807308.6176\n",
            "marital_divorced              -25.3665 1916327.9746  -0.0000 1.0000  -3755959.1793  3755908.4462\n",
            "marital_married               -25.4075 2053089.9319  -0.0000 1.0000  -4024007.7310  4023956.9160\n",
            "marital_single                -25.3361 1871513.8441  -0.0000 1.0000  -3668125.0671  3668074.3948\n",
            "marital_unknown               -25.3646 2051880.0628  -0.0000 1.0000  -4021636.3884  4021585.6591\n",
            "education_Basic               -17.1744          nan      nan    nan            nan           nan\n",
            "education_high.school         -17.1017          nan      nan    nan            nan           nan\n",
            "education_illiterate          -16.0557          nan      nan    nan            nan           nan\n",
            "education_professional.course -17.0645          nan      nan    nan            nan           nan\n",
            "education_university.degree   -17.0135          nan      nan    nan            nan           nan\n",
            "education_unknown             -17.0797          nan      nan    nan            nan           nan\n",
            "default_no                    -30.1208          nan      nan    nan            nan           nan\n",
            "default_unknown               -30.4590          nan      nan    nan            nan           nan\n",
            "default_yes                   -40.9179          nan      nan    nan            nan           nan\n",
            "housing_no                    -33.7991  428654.3750  -0.0001 0.9999   -840180.9358   840113.3377\n",
            "housing_unknown               -33.8317          nan      nan    nan            nan           nan\n",
            "housing_yes                   -33.8317  609795.3718  -0.0001 1.0000  -1195210.7984  1195143.1351\n",
            "loan_no                       -33.7973          nan      nan    nan            nan           nan\n",
            "loan_unknown                  -33.8322          nan      nan    nan            nan           nan\n",
            "loan_yes                      -33.8525          nan      nan    nan            nan           nan\n",
            "contact_cellular              -52.0990 1373715.5782  -0.0000 1.0000  -2692485.1572  2692380.9592\n",
            "contact_telephone             -52.7272 1385207.0893  -0.0000 1.0000  -2715008.7333  2714903.2789\n",
            "month_apr                     -10.4526 1968122.5591  -0.0000 1.0000  -3857459.7855  3857438.8804\n",
            "month_aug                      -9.5540 1937630.5428  -0.0000 1.0000  -3797695.6332  3797676.5253\n",
            "month_dec                     -10.4229 1935743.3505  -0.0000 1.0000  -3793997.6731  3793976.8273\n",
            "month_jul                     -10.3204 1941801.5098  -0.0000 1.0000  -3805871.3448  3805850.7040\n",
            "month_jun                     -10.9802 1922694.4251  -0.0000 1.0000  -3768422.8067  3768400.8463\n",
            "month_mar                      -8.4637 1988541.0872  -0.0000 1.0000  -3897477.3764  3897460.4490\n",
            "month_may                     -10.8503 1971639.4075  -0.0000 1.0000  -3864353.0796  3864331.3790\n",
            "month_nov                     -10.8114 1985660.8678  -0.0000 1.0000  -3891834.5978  3891812.9750\n",
            "month_oct                     -10.1576 1957124.6582  -0.0000 1.0000  -3835904.0009  3835883.6856\n",
            "month_sep                      -9.8388 1937830.8799  -0.0000 1.0000  -3798088.5715  3798068.8939\n",
            "day_of_week_fri               -20.3431 2905899.0392  -0.0000 1.0000  -5695477.8025  5695437.1164\n",
            "day_of_week_mon               -20.4327 2905603.0412  -0.0000 1.0000  -5694897.7467  5694856.8813\n",
            "day_of_week_thu               -20.3054 2905280.7228  -0.0000 1.0000  -5694265.8870  5694225.2763\n",
            "day_of_week_tue               -20.2460 2904633.6009  -0.0000 1.0000  -5692997.4920  5692957.0001\n",
            "day_of_week_wed               -20.1227 2905695.4651  -0.0000 1.0000  -5695078.5844  5695038.3390\n",
            "poutcome_failure              -34.4547 1455235.5937  -0.0000 1.0000  -2852243.8074  2852174.8979\n",
            "poutcome_nonexistent          -34.0959 1455235.5937  -0.0000 1.0000  -2852243.4485  2852175.2568\n",
            "poutcome_success              -33.6724 1455235.5937  -0.0000 1.0000  -2852243.0251  2852175.6802\n",
            "================================================================================================\n",
            "\n"
          ],
          "name": "stdout"
        }
      ]
    },
    {
      "cell_type": "code",
      "metadata": {
        "colab": {
          "base_uri": "https://localhost:8080/"
        },
        "id": "YaUmpgGqT0PD",
        "outputId": "bcedd71b-5463-4e4d-f8e5-4819c58287e4"
      },
      "source": [
        "# MODEL - Okay that is a lot of variables - lets remove some - but remember if\r\n",
        "# we keep month_apr, we might want to keep month_aug, etc\r\n",
        "\r\n",
        "cols=['euribor3m', 'duration', 'education_illiterate', \r\n",
        "      'month_apr', 'month_aug', 'month_dec', 'month_jul', 'month_jun', 'month_mar', \r\n",
        "      'month_may', 'month_nov', 'month_oct', \"poutcome_failure\", \"poutcome_success\"] \r\n",
        "X=X_train[cols]\r\n",
        "y=y_train['y']\r\n",
        "logit_model=sm.Logit(y,X)\r\n",
        "result=logit_model.fit()\r\n",
        "print(result.summary2())"
      ],
      "execution_count": 45,
      "outputs": [
        {
          "output_type": "stream",
          "text": [
            "Optimization terminated successfully.\n",
            "         Current function value: 0.217669\n",
            "         Iterations 8\n",
            "                           Results: Logit\n",
            "=====================================================================\n",
            "Model:                Logit             Pseudo R-squared:  0.384     \n",
            "Dependent Variable:   y                 AIC:               12579.2093\n",
            "Date:                 2021-01-27 19:30  BIC:               12694.9782\n",
            "No. Observations:     28831             Log-Likelihood:    -6275.6   \n",
            "Df Model:             13                LL-Null:           -10182.   \n",
            "Df Residuals:         28817             LLR p-value:       0.0000    \n",
            "Converged:            1.0000            Scale:             1.0000    \n",
            "No. Iterations:       8.0000                                         \n",
            "---------------------------------------------------------------------\n",
            "                      Coef.  Std.Err.    z     P>|z|   [0.025  0.975]\n",
            "---------------------------------------------------------------------\n",
            "euribor3m            -0.7158   0.0178 -40.1838 0.0000 -0.7507 -0.6808\n",
            "duration              0.0045   0.0001  52.8198 0.0000  0.0044  0.0047\n",
            "education_illiterate  0.8804   0.7338   1.1998 0.2302 -0.5579  2.3187\n",
            "month_apr            -1.9381   0.0775 -25.0053 0.0000 -2.0900 -1.7862\n",
            "month_aug            -1.1181   0.0834 -13.3997 0.0000 -1.2816 -0.9545\n",
            "month_dec            -1.4642   0.2072  -7.0671 0.0000 -1.8703 -1.0581\n",
            "month_jul            -1.1024   0.0945 -11.6662 0.0000 -1.2877 -0.9172\n",
            "month_jun            -1.1108   0.0862 -12.8829 0.0000 -1.2798 -0.9418\n",
            "month_mar            -0.3506   0.1193  -2.9395 0.0033 -0.5844 -0.1168\n",
            "month_may            -2.5788   0.0681 -37.8941 0.0000 -2.7122 -2.4455\n",
            "month_nov            -1.4182   0.0966 -14.6866 0.0000 -1.6075 -1.2290\n",
            "month_oct            -0.8527   0.1113  -7.6632 0.0000 -1.0708 -0.6346\n",
            "poutcome_failure     -0.4695   0.0688  -6.8215 0.0000 -0.6044 -0.3346\n",
            "poutcome_success      1.3688   0.0847  16.1530 0.0000  1.2027  1.5349\n",
            "=====================================================================\n",
            "\n"
          ],
          "name": "stdout"
        }
      ]
    },
    {
      "cell_type": "markdown",
      "metadata": {
        "id": "Z00xD3CLX7Qi"
      },
      "source": [
        "Okay - That is the StatsModel approach - one thing we can see is the summary gives us a view similar to the linear model format.\r\n",
        "NOTE:  We did very little in the way of looking at the imbalanced data and we also didn't look @ feature elimination:\r\n",
        "https://scikit-learn.org/stable/modules/generated/sklearn.feature_selection.RFE.html\r\n"
      ]
    },
    {
      "cell_type": "code",
      "metadata": {
        "colab": {
          "base_uri": "https://localhost:8080/"
        },
        "id": "2ShhR4svVG58",
        "outputId": "07b894be-eb12-4272-a883-d215fba591c2"
      },
      "source": [
        "# MODEL - We have tried StatsModel - let's try sklearn\r\n",
        "from sklearn.linear_model import LogisticRegression\r\n",
        "from sklearn import metrics\r\n",
        "\r\n",
        "X_train, X_test, y_train, y_test = train_test_split(X, y, test_size=0.3, random_state=0)\r\n",
        "logreg = LogisticRegression()\r\n",
        "logreg.fit(X_train, y_train)"
      ],
      "execution_count": 46,
      "outputs": [
        {
          "output_type": "execute_result",
          "data": {
            "text/plain": [
              "LogisticRegression(C=1.0, class_weight=None, dual=False, fit_intercept=True,\n",
              "                   intercept_scaling=1, l1_ratio=None, max_iter=100,\n",
              "                   multi_class='auto', n_jobs=None, penalty='l2',\n",
              "                   random_state=None, solver='lbfgs', tol=0.0001, verbose=0,\n",
              "                   warm_start=False)"
            ]
          },
          "metadata": {
            "tags": []
          },
          "execution_count": 46
        }
      ]
    },
    {
      "cell_type": "code",
      "metadata": {
        "colab": {
          "base_uri": "https://localhost:8080/"
        },
        "id": "OLsmQQ2RVUOI",
        "outputId": "3819f1c1-a612-4b0d-eb32-fe6310b4b34f"
      },
      "source": [
        "# EVALUATE - okay ... so we have a model - how did we do?\r\n",
        "\r\n",
        "y_pred = logreg.predict(X_test)\r\n",
        "print('Accuracy of logistic regression classifier on test set: {:.2f}'.format(logreg.score(X_test, y_test)))"
      ],
      "execution_count": 47,
      "outputs": [
        {
          "output_type": "stream",
          "text": [
            "Accuracy of logistic regression classifier on test set: 0.91\n"
          ],
          "name": "stdout"
        }
      ]
    },
    {
      "cell_type": "code",
      "metadata": {
        "colab": {
          "base_uri": "https://localhost:8080/"
        },
        "id": "dU3mVhuAViYl",
        "outputId": "51b4250f-7296-4a10-a7bc-3962b0ee897f"
      },
      "source": [
        "# EVALUATE - Let's look at confusion matrix\r\n",
        "# Read more about it here:  https://scikit-learn.org/stable/auto_examples/model_selection/plot_confusion_matrix.html?highlight=confusion\r\n",
        "\r\n",
        "from sklearn.metrics import confusion_matrix\r\n",
        "\r\n",
        "confusion_matrix = confusion_matrix(y_test, y_pred)\r\n",
        "print(confusion_matrix)"
      ],
      "execution_count": 48,
      "outputs": [
        {
          "output_type": "stream",
          "text": [
            "[[7465  190]\n",
            " [ 606  389]]\n"
          ],
          "name": "stdout"
        }
      ]
    },
    {
      "cell_type": "code",
      "metadata": {
        "colab": {
          "base_uri": "https://localhost:8080/"
        },
        "id": "pRUNoHNpXFvb",
        "outputId": "ba36ca26-7eb3-4bef-f025-6b366e06f37e"
      },
      "source": [
        "# EVALUATE\r\n",
        "\r\n",
        "from sklearn.metrics import classification_report\r\n",
        "print(classification_report(y_test, y_pred))"
      ],
      "execution_count": 50,
      "outputs": [
        {
          "output_type": "stream",
          "text": [
            "              precision    recall  f1-score   support\n",
            "\n",
            "           0       0.92      0.98      0.95      7655\n",
            "           1       0.67      0.39      0.49       995\n",
            "\n",
            "    accuracy                           0.91      8650\n",
            "   macro avg       0.80      0.68      0.72      8650\n",
            "weighted avg       0.90      0.91      0.90      8650\n",
            "\n"
          ],
          "name": "stdout"
        }
      ]
    },
    {
      "cell_type": "markdown",
      "metadata": {
        "id": "PwibBOXgXfxu"
      },
      "source": [
        "Okay - Accuracy looks good but what about recall?  The low recall here tells us our model struggles to find all the positive cases - one thing to consider is we are using an imbalanced sample - might our model improve if we used SMOTE as mentioned above?\r\n"
      ]
    },
    {
      "cell_type": "code",
      "metadata": {
        "colab": {
          "base_uri": "https://localhost:8080/",
          "height": 325
        },
        "id": "wroC-Oi4V5wZ",
        "outputId": "352f2fae-a015-4447-9e40-aeb91aa477d3"
      },
      "source": [
        "# EVALUATE - But can't we make a graph?\r\n",
        "\r\n",
        "from sklearn.metrics import roc_auc_score\r\n",
        "from sklearn.metrics import roc_curve\r\n",
        "logit_roc_auc = roc_auc_score(y_test, logreg.predict(X_test))\r\n",
        "fpr, tpr, thresholds = roc_curve(y_test, logreg.predict_proba(X_test)[:,1])\r\n",
        "plt.figure()\r\n",
        "plt.plot(fpr, tpr, label='Logistic Regression (area = %0.2f)' % logit_roc_auc)\r\n",
        "plt.plot([0, 1], [0, 1],'r--')\r\n",
        "plt.xlim([0.0, 1.0])\r\n",
        "plt.ylim([0.0, 1.05])\r\n",
        "plt.xlabel('False Positive Rate')\r\n",
        "plt.ylabel('True Positive Rate')\r\n",
        "plt.title('Receiver operating characteristic')\r\n",
        "plt.legend(loc=\"lower right\")\r\n",
        "plt.savefig('Log_ROC')\r\n",
        "plt.show()"
      ],
      "execution_count": 49,
      "outputs": [
        {
          "output_type": "display_data",
          "data": {
            "image/png": "[encoded data removed]",
            "text/plain": [
              "<Figure size 432x288 with 1 Axes>"
            ]
          },
          "metadata": {
            "tags": []
          }
        }
      ]
    },
    {
      "cell_type": "markdown",
      "metadata": {
        "id": "SGjypwt4WHmP"
      },
      "source": [
        "Not too shabby - a good model will stay away from the red line and be in the top left corner - "
      ]
    }
  ]
}